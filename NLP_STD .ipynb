{
  "nbformat": 4,
  "nbformat_minor": 0,
  "metadata": {
    "colab": {
      "name": "NLP_STD.ipynb",
      "provenance": [],
      "collapsed_sections": []
    },
    "kernelspec": {
      "name": "python3",
      "display_name": "Python 3"
    },
    "language_info": {
      "name": "python"
    },
    "widgets": {
      "application/vnd.jupyter.widget-state+json": {
        "fb2a7f43093a47b9829ff908a691be83": {
          "model_module": "@jupyter-widgets/controls",
          "model_name": "HBoxModel",
          "state": {
            "_view_name": "HBoxView",
            "_dom_classes": [],
            "_model_name": "HBoxModel",
            "_view_module": "@jupyter-widgets/controls",
            "_model_module_version": "1.5.0",
            "_view_count": null,
            "_view_module_version": "1.5.0",
            "box_style": "",
            "layout": "IPY_MODEL_66d8497e8f8e4682abf3188a2605974d",
            "_model_module": "@jupyter-widgets/controls",
            "children": [
              "IPY_MODEL_3c3f358006ca4d63bf396885a5922628",
              "IPY_MODEL_50e61d6f9cb7416ab6c4cd7d09b86e32"
            ]
          }
        },
        "66d8497e8f8e4682abf3188a2605974d": {
          "model_module": "@jupyter-widgets/base",
          "model_name": "LayoutModel",
          "state": {
            "_view_name": "LayoutView",
            "grid_template_rows": null,
            "right": null,
            "justify_content": null,
            "_view_module": "@jupyter-widgets/base",
            "overflow": null,
            "_model_module_version": "1.2.0",
            "_view_count": null,
            "flex_flow": null,
            "width": null,
            "min_width": null,
            "border": null,
            "align_items": null,
            "bottom": null,
            "_model_module": "@jupyter-widgets/base",
            "top": null,
            "grid_column": null,
            "overflow_y": null,
            "overflow_x": null,
            "grid_auto_flow": null,
            "grid_area": null,
            "grid_template_columns": null,
            "flex": null,
            "_model_name": "LayoutModel",
            "justify_items": null,
            "grid_row": null,
            "max_height": null,
            "align_content": null,
            "visibility": null,
            "align_self": null,
            "height": null,
            "min_height": null,
            "padding": null,
            "grid_auto_rows": null,
            "grid_gap": null,
            "max_width": null,
            "order": null,
            "_view_module_version": "1.2.0",
            "grid_template_areas": null,
            "object_position": null,
            "object_fit": null,
            "grid_auto_columns": null,
            "margin": null,
            "display": null,
            "left": null
          }
        },
        "3c3f358006ca4d63bf396885a5922628": {
          "model_module": "@jupyter-widgets/controls",
          "model_name": "FloatProgressModel",
          "state": {
            "_view_name": "ProgressView",
            "style": "IPY_MODEL_ad711516347f42d29519a4e252a9e7f7",
            "_dom_classes": [],
            "description": "Downloading: 100%",
            "_model_name": "FloatProgressModel",
            "bar_style": "success",
            "max": 1649,
            "_view_module": "@jupyter-widgets/controls",
            "_model_module_version": "1.5.0",
            "value": 1649,
            "_view_count": null,
            "_view_module_version": "1.5.0",
            "orientation": "horizontal",
            "min": 0,
            "description_tooltip": null,
            "_model_module": "@jupyter-widgets/controls",
            "layout": "IPY_MODEL_ff0e4fcff80147d2aebcaee12e28c057"
          }
        },
        "50e61d6f9cb7416ab6c4cd7d09b86e32": {
          "model_module": "@jupyter-widgets/controls",
          "model_name": "HTMLModel",
          "state": {
            "_view_name": "HTMLView",
            "style": "IPY_MODEL_13bbf43a72fe4e9e828e84949079137e",
            "_dom_classes": [],
            "description": "",
            "_model_name": "HTMLModel",
            "placeholder": "​",
            "_view_module": "@jupyter-widgets/controls",
            "_model_module_version": "1.5.0",
            "value": " 1.65k/1.65k [00:28&lt;00:00, 58.3B/s]",
            "_view_count": null,
            "_view_module_version": "1.5.0",
            "description_tooltip": null,
            "_model_module": "@jupyter-widgets/controls",
            "layout": "IPY_MODEL_20bfde2e852441b98c26b0f33c468a2c"
          }
        },
        "ad711516347f42d29519a4e252a9e7f7": {
          "model_module": "@jupyter-widgets/controls",
          "model_name": "ProgressStyleModel",
          "state": {
            "_view_name": "StyleView",
            "_model_name": "ProgressStyleModel",
            "description_width": "initial",
            "_view_module": "@jupyter-widgets/base",
            "_model_module_version": "1.5.0",
            "_view_count": null,
            "_view_module_version": "1.2.0",
            "bar_color": null,
            "_model_module": "@jupyter-widgets/controls"
          }
        },
        "ff0e4fcff80147d2aebcaee12e28c057": {
          "model_module": "@jupyter-widgets/base",
          "model_name": "LayoutModel",
          "state": {
            "_view_name": "LayoutView",
            "grid_template_rows": null,
            "right": null,
            "justify_content": null,
            "_view_module": "@jupyter-widgets/base",
            "overflow": null,
            "_model_module_version": "1.2.0",
            "_view_count": null,
            "flex_flow": null,
            "width": null,
            "min_width": null,
            "border": null,
            "align_items": null,
            "bottom": null,
            "_model_module": "@jupyter-widgets/base",
            "top": null,
            "grid_column": null,
            "overflow_y": null,
            "overflow_x": null,
            "grid_auto_flow": null,
            "grid_area": null,
            "grid_template_columns": null,
            "flex": null,
            "_model_name": "LayoutModel",
            "justify_items": null,
            "grid_row": null,
            "max_height": null,
            "align_content": null,
            "visibility": null,
            "align_self": null,
            "height": null,
            "min_height": null,
            "padding": null,
            "grid_auto_rows": null,
            "grid_gap": null,
            "max_width": null,
            "order": null,
            "_view_module_version": "1.2.0",
            "grid_template_areas": null,
            "object_position": null,
            "object_fit": null,
            "grid_auto_columns": null,
            "margin": null,
            "display": null,
            "left": null
          }
        },
        "13bbf43a72fe4e9e828e84949079137e": {
          "model_module": "@jupyter-widgets/controls",
          "model_name": "DescriptionStyleModel",
          "state": {
            "_view_name": "StyleView",
            "_model_name": "DescriptionStyleModel",
            "description_width": "",
            "_view_module": "@jupyter-widgets/base",
            "_model_module_version": "1.5.0",
            "_view_count": null,
            "_view_module_version": "1.2.0",
            "_model_module": "@jupyter-widgets/controls"
          }
        },
        "20bfde2e852441b98c26b0f33c468a2c": {
          "model_module": "@jupyter-widgets/base",
          "model_name": "LayoutModel",
          "state": {
            "_view_name": "LayoutView",
            "grid_template_rows": null,
            "right": null,
            "justify_content": null,
            "_view_module": "@jupyter-widgets/base",
            "overflow": null,
            "_model_module_version": "1.2.0",
            "_view_count": null,
            "flex_flow": null,
            "width": null,
            "min_width": null,
            "border": null,
            "align_items": null,
            "bottom": null,
            "_model_module": "@jupyter-widgets/base",
            "top": null,
            "grid_column": null,
            "overflow_y": null,
            "overflow_x": null,
            "grid_auto_flow": null,
            "grid_area": null,
            "grid_template_columns": null,
            "flex": null,
            "_model_name": "LayoutModel",
            "justify_items": null,
            "grid_row": null,
            "max_height": null,
            "align_content": null,
            "visibility": null,
            "align_self": null,
            "height": null,
            "min_height": null,
            "padding": null,
            "grid_auto_rows": null,
            "grid_gap": null,
            "max_width": null,
            "order": null,
            "_view_module_version": "1.2.0",
            "grid_template_areas": null,
            "object_position": null,
            "object_fit": null,
            "grid_auto_columns": null,
            "margin": null,
            "display": null,
            "left": null
          }
        },
        "ce068b46939c4771a688fd32d0cf70cd": {
          "model_module": "@jupyter-widgets/controls",
          "model_name": "HBoxModel",
          "state": {
            "_view_name": "HBoxView",
            "_dom_classes": [],
            "_model_name": "HBoxModel",
            "_view_module": "@jupyter-widgets/controls",
            "_model_module_version": "1.5.0",
            "_view_count": null,
            "_view_module_version": "1.5.0",
            "box_style": "",
            "layout": "IPY_MODEL_76e5a946d44046a1957e62ab72579f75",
            "_model_module": "@jupyter-widgets/controls",
            "children": [
              "IPY_MODEL_0725fc3292cd4324b26895cfc2f136a0",
              "IPY_MODEL_b8530d29727e4e82940a57a6d9f40fa7"
            ]
          }
        },
        "76e5a946d44046a1957e62ab72579f75": {
          "model_module": "@jupyter-widgets/base",
          "model_name": "LayoutModel",
          "state": {
            "_view_name": "LayoutView",
            "grid_template_rows": null,
            "right": null,
            "justify_content": null,
            "_view_module": "@jupyter-widgets/base",
            "overflow": null,
            "_model_module_version": "1.2.0",
            "_view_count": null,
            "flex_flow": null,
            "width": null,
            "min_width": null,
            "border": null,
            "align_items": null,
            "bottom": null,
            "_model_module": "@jupyter-widgets/base",
            "top": null,
            "grid_column": null,
            "overflow_y": null,
            "overflow_x": null,
            "grid_auto_flow": null,
            "grid_area": null,
            "grid_template_columns": null,
            "flex": null,
            "_model_name": "LayoutModel",
            "justify_items": null,
            "grid_row": null,
            "max_height": null,
            "align_content": null,
            "visibility": null,
            "align_self": null,
            "height": null,
            "min_height": null,
            "padding": null,
            "grid_auto_rows": null,
            "grid_gap": null,
            "max_width": null,
            "order": null,
            "_view_module_version": "1.2.0",
            "grid_template_areas": null,
            "object_position": null,
            "object_fit": null,
            "grid_auto_columns": null,
            "margin": null,
            "display": null,
            "left": null
          }
        },
        "0725fc3292cd4324b26895cfc2f136a0": {
          "model_module": "@jupyter-widgets/controls",
          "model_name": "FloatProgressModel",
          "state": {
            "_view_name": "ProgressView",
            "style": "IPY_MODEL_dcb8c3676ba84a9a8a612265b9006eec",
            "_dom_classes": [],
            "description": "Downloading: 100%",
            "_model_name": "FloatProgressModel",
            "bar_style": "success",
            "max": 1222317369,
            "_view_module": "@jupyter-widgets/controls",
            "_model_module_version": "1.5.0",
            "value": 1222317369,
            "_view_count": null,
            "_view_module_version": "1.5.0",
            "orientation": "horizontal",
            "min": 0,
            "description_tooltip": null,
            "_model_module": "@jupyter-widgets/controls",
            "layout": "IPY_MODEL_5070e8efc1474d7fbc2ab1a76ef90710"
          }
        },
        "b8530d29727e4e82940a57a6d9f40fa7": {
          "model_module": "@jupyter-widgets/controls",
          "model_name": "HTMLModel",
          "state": {
            "_view_name": "HTMLView",
            "style": "IPY_MODEL_1f53a3d6a486415d99d8531a6715f5da",
            "_dom_classes": [],
            "description": "",
            "_model_name": "HTMLModel",
            "placeholder": "​",
            "_view_module": "@jupyter-widgets/controls",
            "_model_module_version": "1.5.0",
            "value": " 1.22G/1.22G [00:28&lt;00:00, 43.5MB/s]",
            "_view_count": null,
            "_view_module_version": "1.5.0",
            "description_tooltip": null,
            "_model_module": "@jupyter-widgets/controls",
            "layout": "IPY_MODEL_2edad958093440359a377d26176289e0"
          }
        },
        "dcb8c3676ba84a9a8a612265b9006eec": {
          "model_module": "@jupyter-widgets/controls",
          "model_name": "ProgressStyleModel",
          "state": {
            "_view_name": "StyleView",
            "_model_name": "ProgressStyleModel",
            "description_width": "initial",
            "_view_module": "@jupyter-widgets/base",
            "_model_module_version": "1.5.0",
            "_view_count": null,
            "_view_module_version": "1.2.0",
            "bar_color": null,
            "_model_module": "@jupyter-widgets/controls"
          }
        },
        "5070e8efc1474d7fbc2ab1a76ef90710": {
          "model_module": "@jupyter-widgets/base",
          "model_name": "LayoutModel",
          "state": {
            "_view_name": "LayoutView",
            "grid_template_rows": null,
            "right": null,
            "justify_content": null,
            "_view_module": "@jupyter-widgets/base",
            "overflow": null,
            "_model_module_version": "1.2.0",
            "_view_count": null,
            "flex_flow": null,
            "width": null,
            "min_width": null,
            "border": null,
            "align_items": null,
            "bottom": null,
            "_model_module": "@jupyter-widgets/base",
            "top": null,
            "grid_column": null,
            "overflow_y": null,
            "overflow_x": null,
            "grid_auto_flow": null,
            "grid_area": null,
            "grid_template_columns": null,
            "flex": null,
            "_model_name": "LayoutModel",
            "justify_items": null,
            "grid_row": null,
            "max_height": null,
            "align_content": null,
            "visibility": null,
            "align_self": null,
            "height": null,
            "min_height": null,
            "padding": null,
            "grid_auto_rows": null,
            "grid_gap": null,
            "max_width": null,
            "order": null,
            "_view_module_version": "1.2.0",
            "grid_template_areas": null,
            "object_position": null,
            "object_fit": null,
            "grid_auto_columns": null,
            "margin": null,
            "display": null,
            "left": null
          }
        },
        "1f53a3d6a486415d99d8531a6715f5da": {
          "model_module": "@jupyter-widgets/controls",
          "model_name": "DescriptionStyleModel",
          "state": {
            "_view_name": "StyleView",
            "_model_name": "DescriptionStyleModel",
            "description_width": "",
            "_view_module": "@jupyter-widgets/base",
            "_model_module_version": "1.5.0",
            "_view_count": null,
            "_view_module_version": "1.2.0",
            "_model_module": "@jupyter-widgets/controls"
          }
        },
        "2edad958093440359a377d26176289e0": {
          "model_module": "@jupyter-widgets/base",
          "model_name": "LayoutModel",
          "state": {
            "_view_name": "LayoutView",
            "grid_template_rows": null,
            "right": null,
            "justify_content": null,
            "_view_module": "@jupyter-widgets/base",
            "overflow": null,
            "_model_module_version": "1.2.0",
            "_view_count": null,
            "flex_flow": null,
            "width": null,
            "min_width": null,
            "border": null,
            "align_items": null,
            "bottom": null,
            "_model_module": "@jupyter-widgets/base",
            "top": null,
            "grid_column": null,
            "overflow_y": null,
            "overflow_x": null,
            "grid_auto_flow": null,
            "grid_area": null,
            "grid_template_columns": null,
            "flex": null,
            "_model_name": "LayoutModel",
            "justify_items": null,
            "grid_row": null,
            "max_height": null,
            "align_content": null,
            "visibility": null,
            "align_self": null,
            "height": null,
            "min_height": null,
            "padding": null,
            "grid_auto_rows": null,
            "grid_gap": null,
            "max_width": null,
            "order": null,
            "_view_module_version": "1.2.0",
            "grid_template_areas": null,
            "object_position": null,
            "object_fit": null,
            "grid_auto_columns": null,
            "margin": null,
            "display": null,
            "left": null
          }
        },
        "83d6b2b4740f47e3a4e06a813e8f342a": {
          "model_module": "@jupyter-widgets/controls",
          "model_name": "HBoxModel",
          "state": {
            "_view_name": "HBoxView",
            "_dom_classes": [],
            "_model_name": "HBoxModel",
            "_view_module": "@jupyter-widgets/controls",
            "_model_module_version": "1.5.0",
            "_view_count": null,
            "_view_module_version": "1.5.0",
            "box_style": "",
            "layout": "IPY_MODEL_5c9eb604bf744adebc70286cd11bc82d",
            "_model_module": "@jupyter-widgets/controls",
            "children": [
              "IPY_MODEL_22112eca54b84947bbb185c75047ea86",
              "IPY_MODEL_57bfccec07f14fcbaca5da8f2bb4f064"
            ]
          }
        },
        "5c9eb604bf744adebc70286cd11bc82d": {
          "model_module": "@jupyter-widgets/base",
          "model_name": "LayoutModel",
          "state": {
            "_view_name": "LayoutView",
            "grid_template_rows": null,
            "right": null,
            "justify_content": null,
            "_view_module": "@jupyter-widgets/base",
            "overflow": null,
            "_model_module_version": "1.2.0",
            "_view_count": null,
            "flex_flow": null,
            "width": null,
            "min_width": null,
            "border": null,
            "align_items": null,
            "bottom": null,
            "_model_module": "@jupyter-widgets/base",
            "top": null,
            "grid_column": null,
            "overflow_y": null,
            "overflow_x": null,
            "grid_auto_flow": null,
            "grid_area": null,
            "grid_template_columns": null,
            "flex": null,
            "_model_name": "LayoutModel",
            "justify_items": null,
            "grid_row": null,
            "max_height": null,
            "align_content": null,
            "visibility": null,
            "align_self": null,
            "height": null,
            "min_height": null,
            "padding": null,
            "grid_auto_rows": null,
            "grid_gap": null,
            "max_width": null,
            "order": null,
            "_view_module_version": "1.2.0",
            "grid_template_areas": null,
            "object_position": null,
            "object_fit": null,
            "grid_auto_columns": null,
            "margin": null,
            "display": null,
            "left": null
          }
        },
        "22112eca54b84947bbb185c75047ea86": {
          "model_module": "@jupyter-widgets/controls",
          "model_name": "FloatProgressModel",
          "state": {
            "_view_name": "ProgressView",
            "style": "IPY_MODEL_a51307bd1cee477687af11908f153c06",
            "_dom_classes": [],
            "description": "Downloading: 100%",
            "_model_name": "FloatProgressModel",
            "bar_style": "success",
            "max": 898822,
            "_view_module": "@jupyter-widgets/controls",
            "_model_module_version": "1.5.0",
            "value": 898822,
            "_view_count": null,
            "_view_module_version": "1.5.0",
            "orientation": "horizontal",
            "min": 0,
            "description_tooltip": null,
            "_model_module": "@jupyter-widgets/controls",
            "layout": "IPY_MODEL_e5b36e580bf9449db3de06539f54639b"
          }
        },
        "57bfccec07f14fcbaca5da8f2bb4f064": {
          "model_module": "@jupyter-widgets/controls",
          "model_name": "HTMLModel",
          "state": {
            "_view_name": "HTMLView",
            "style": "IPY_MODEL_df2413e676b541e4b9f365609375cd9e",
            "_dom_classes": [],
            "description": "",
            "_model_name": "HTMLModel",
            "placeholder": "​",
            "_view_module": "@jupyter-widgets/controls",
            "_model_module_version": "1.5.0",
            "value": " 899k/899k [00:00&lt;00:00, 3.25MB/s]",
            "_view_count": null,
            "_view_module_version": "1.5.0",
            "description_tooltip": null,
            "_model_module": "@jupyter-widgets/controls",
            "layout": "IPY_MODEL_0277683bd8f4450aadef861e3b4ae980"
          }
        },
        "a51307bd1cee477687af11908f153c06": {
          "model_module": "@jupyter-widgets/controls",
          "model_name": "ProgressStyleModel",
          "state": {
            "_view_name": "StyleView",
            "_model_name": "ProgressStyleModel",
            "description_width": "initial",
            "_view_module": "@jupyter-widgets/base",
            "_model_module_version": "1.5.0",
            "_view_count": null,
            "_view_module_version": "1.2.0",
            "bar_color": null,
            "_model_module": "@jupyter-widgets/controls"
          }
        },
        "e5b36e580bf9449db3de06539f54639b": {
          "model_module": "@jupyter-widgets/base",
          "model_name": "LayoutModel",
          "state": {
            "_view_name": "LayoutView",
            "grid_template_rows": null,
            "right": null,
            "justify_content": null,
            "_view_module": "@jupyter-widgets/base",
            "overflow": null,
            "_model_module_version": "1.2.0",
            "_view_count": null,
            "flex_flow": null,
            "width": null,
            "min_width": null,
            "border": null,
            "align_items": null,
            "bottom": null,
            "_model_module": "@jupyter-widgets/base",
            "top": null,
            "grid_column": null,
            "overflow_y": null,
            "overflow_x": null,
            "grid_auto_flow": null,
            "grid_area": null,
            "grid_template_columns": null,
            "flex": null,
            "_model_name": "LayoutModel",
            "justify_items": null,
            "grid_row": null,
            "max_height": null,
            "align_content": null,
            "visibility": null,
            "align_self": null,
            "height": null,
            "min_height": null,
            "padding": null,
            "grid_auto_rows": null,
            "grid_gap": null,
            "max_width": null,
            "order": null,
            "_view_module_version": "1.2.0",
            "grid_template_areas": null,
            "object_position": null,
            "object_fit": null,
            "grid_auto_columns": null,
            "margin": null,
            "display": null,
            "left": null
          }
        },
        "df2413e676b541e4b9f365609375cd9e": {
          "model_module": "@jupyter-widgets/controls",
          "model_name": "DescriptionStyleModel",
          "state": {
            "_view_name": "StyleView",
            "_model_name": "DescriptionStyleModel",
            "description_width": "",
            "_view_module": "@jupyter-widgets/base",
            "_model_module_version": "1.5.0",
            "_view_count": null,
            "_view_module_version": "1.2.0",
            "_model_module": "@jupyter-widgets/controls"
          }
        },
        "0277683bd8f4450aadef861e3b4ae980": {
          "model_module": "@jupyter-widgets/base",
          "model_name": "LayoutModel",
          "state": {
            "_view_name": "LayoutView",
            "grid_template_rows": null,
            "right": null,
            "justify_content": null,
            "_view_module": "@jupyter-widgets/base",
            "overflow": null,
            "_model_module_version": "1.2.0",
            "_view_count": null,
            "flex_flow": null,
            "width": null,
            "min_width": null,
            "border": null,
            "align_items": null,
            "bottom": null,
            "_model_module": "@jupyter-widgets/base",
            "top": null,
            "grid_column": null,
            "overflow_y": null,
            "overflow_x": null,
            "grid_auto_flow": null,
            "grid_area": null,
            "grid_template_columns": null,
            "flex": null,
            "_model_name": "LayoutModel",
            "justify_items": null,
            "grid_row": null,
            "max_height": null,
            "align_content": null,
            "visibility": null,
            "align_self": null,
            "height": null,
            "min_height": null,
            "padding": null,
            "grid_auto_rows": null,
            "grid_gap": null,
            "max_width": null,
            "order": null,
            "_view_module_version": "1.2.0",
            "grid_template_areas": null,
            "object_position": null,
            "object_fit": null,
            "grid_auto_columns": null,
            "margin": null,
            "display": null,
            "left": null
          }
        },
        "589a102fbfb348f3adafe8af0e688799": {
          "model_module": "@jupyter-widgets/controls",
          "model_name": "HBoxModel",
          "state": {
            "_view_name": "HBoxView",
            "_dom_classes": [],
            "_model_name": "HBoxModel",
            "_view_module": "@jupyter-widgets/controls",
            "_model_module_version": "1.5.0",
            "_view_count": null,
            "_view_module_version": "1.5.0",
            "box_style": "",
            "layout": "IPY_MODEL_eccca67a3ac74de38d6c5ad70164dc07",
            "_model_module": "@jupyter-widgets/controls",
            "children": [
              "IPY_MODEL_3c4176b4fe094a7787de5702b1b8d1b1",
              "IPY_MODEL_206070fd61344e71a0f39bb8bd4fc80e"
            ]
          }
        },
        "eccca67a3ac74de38d6c5ad70164dc07": {
          "model_module": "@jupyter-widgets/base",
          "model_name": "LayoutModel",
          "state": {
            "_view_name": "LayoutView",
            "grid_template_rows": null,
            "right": null,
            "justify_content": null,
            "_view_module": "@jupyter-widgets/base",
            "overflow": null,
            "_model_module_version": "1.2.0",
            "_view_count": null,
            "flex_flow": null,
            "width": null,
            "min_width": null,
            "border": null,
            "align_items": null,
            "bottom": null,
            "_model_module": "@jupyter-widgets/base",
            "top": null,
            "grid_column": null,
            "overflow_y": null,
            "overflow_x": null,
            "grid_auto_flow": null,
            "grid_area": null,
            "grid_template_columns": null,
            "flex": null,
            "_model_name": "LayoutModel",
            "justify_items": null,
            "grid_row": null,
            "max_height": null,
            "align_content": null,
            "visibility": null,
            "align_self": null,
            "height": null,
            "min_height": null,
            "padding": null,
            "grid_auto_rows": null,
            "grid_gap": null,
            "max_width": null,
            "order": null,
            "_view_module_version": "1.2.0",
            "grid_template_areas": null,
            "object_position": null,
            "object_fit": null,
            "grid_auto_columns": null,
            "margin": null,
            "display": null,
            "left": null
          }
        },
        "3c4176b4fe094a7787de5702b1b8d1b1": {
          "model_module": "@jupyter-widgets/controls",
          "model_name": "FloatProgressModel",
          "state": {
            "_view_name": "ProgressView",
            "style": "IPY_MODEL_16de55cb087f480d942405d7537e6bc9",
            "_dom_classes": [],
            "description": "Downloading: 100%",
            "_model_name": "FloatProgressModel",
            "bar_style": "success",
            "max": 456318,
            "_view_module": "@jupyter-widgets/controls",
            "_model_module_version": "1.5.0",
            "value": 456318,
            "_view_count": null,
            "_view_module_version": "1.5.0",
            "orientation": "horizontal",
            "min": 0,
            "description_tooltip": null,
            "_model_module": "@jupyter-widgets/controls",
            "layout": "IPY_MODEL_a31dae7ee4804184aa0c814aec9bffca"
          }
        },
        "206070fd61344e71a0f39bb8bd4fc80e": {
          "model_module": "@jupyter-widgets/controls",
          "model_name": "HTMLModel",
          "state": {
            "_view_name": "HTMLView",
            "style": "IPY_MODEL_38418fb9e20342d9ab9311b5d3ad0c59",
            "_dom_classes": [],
            "description": "",
            "_model_name": "HTMLModel",
            "placeholder": "​",
            "_view_module": "@jupyter-widgets/controls",
            "_model_module_version": "1.5.0",
            "value": " 456k/456k [00:00&lt;00:00, 2.81MB/s]",
            "_view_count": null,
            "_view_module_version": "1.5.0",
            "description_tooltip": null,
            "_model_module": "@jupyter-widgets/controls",
            "layout": "IPY_MODEL_471b50d4809643f4884249c31fb7dc85"
          }
        },
        "16de55cb087f480d942405d7537e6bc9": {
          "model_module": "@jupyter-widgets/controls",
          "model_name": "ProgressStyleModel",
          "state": {
            "_view_name": "StyleView",
            "_model_name": "ProgressStyleModel",
            "description_width": "initial",
            "_view_module": "@jupyter-widgets/base",
            "_model_module_version": "1.5.0",
            "_view_count": null,
            "_view_module_version": "1.2.0",
            "bar_color": null,
            "_model_module": "@jupyter-widgets/controls"
          }
        },
        "a31dae7ee4804184aa0c814aec9bffca": {
          "model_module": "@jupyter-widgets/base",
          "model_name": "LayoutModel",
          "state": {
            "_view_name": "LayoutView",
            "grid_template_rows": null,
            "right": null,
            "justify_content": null,
            "_view_module": "@jupyter-widgets/base",
            "overflow": null,
            "_model_module_version": "1.2.0",
            "_view_count": null,
            "flex_flow": null,
            "width": null,
            "min_width": null,
            "border": null,
            "align_items": null,
            "bottom": null,
            "_model_module": "@jupyter-widgets/base",
            "top": null,
            "grid_column": null,
            "overflow_y": null,
            "overflow_x": null,
            "grid_auto_flow": null,
            "grid_area": null,
            "grid_template_columns": null,
            "flex": null,
            "_model_name": "LayoutModel",
            "justify_items": null,
            "grid_row": null,
            "max_height": null,
            "align_content": null,
            "visibility": null,
            "align_self": null,
            "height": null,
            "min_height": null,
            "padding": null,
            "grid_auto_rows": null,
            "grid_gap": null,
            "max_width": null,
            "order": null,
            "_view_module_version": "1.2.0",
            "grid_template_areas": null,
            "object_position": null,
            "object_fit": null,
            "grid_auto_columns": null,
            "margin": null,
            "display": null,
            "left": null
          }
        },
        "38418fb9e20342d9ab9311b5d3ad0c59": {
          "model_module": "@jupyter-widgets/controls",
          "model_name": "DescriptionStyleModel",
          "state": {
            "_view_name": "StyleView",
            "_model_name": "DescriptionStyleModel",
            "description_width": "",
            "_view_module": "@jupyter-widgets/base",
            "_model_module_version": "1.5.0",
            "_view_count": null,
            "_view_module_version": "1.2.0",
            "_model_module": "@jupyter-widgets/controls"
          }
        },
        "471b50d4809643f4884249c31fb7dc85": {
          "model_module": "@jupyter-widgets/base",
          "model_name": "LayoutModel",
          "state": {
            "_view_name": "LayoutView",
            "grid_template_rows": null,
            "right": null,
            "justify_content": null,
            "_view_module": "@jupyter-widgets/base",
            "overflow": null,
            "_model_module_version": "1.2.0",
            "_view_count": null,
            "flex_flow": null,
            "width": null,
            "min_width": null,
            "border": null,
            "align_items": null,
            "bottom": null,
            "_model_module": "@jupyter-widgets/base",
            "top": null,
            "grid_column": null,
            "overflow_y": null,
            "overflow_x": null,
            "grid_auto_flow": null,
            "grid_area": null,
            "grid_template_columns": null,
            "flex": null,
            "_model_name": "LayoutModel",
            "justify_items": null,
            "grid_row": null,
            "max_height": null,
            "align_content": null,
            "visibility": null,
            "align_self": null,
            "height": null,
            "min_height": null,
            "padding": null,
            "grid_auto_rows": null,
            "grid_gap": null,
            "max_width": null,
            "order": null,
            "_view_module_version": "1.2.0",
            "grid_template_areas": null,
            "object_position": null,
            "object_fit": null,
            "grid_auto_columns": null,
            "margin": null,
            "display": null,
            "left": null
          }
        },
        "19a43091fe874b8b8d0106318b05bfb6": {
          "model_module": "@jupyter-widgets/controls",
          "model_name": "HBoxModel",
          "state": {
            "_view_name": "HBoxView",
            "_dom_classes": [],
            "_model_name": "HBoxModel",
            "_view_module": "@jupyter-widgets/controls",
            "_model_module_version": "1.5.0",
            "_view_count": null,
            "_view_module_version": "1.5.0",
            "box_style": "",
            "layout": "IPY_MODEL_700dc3fe910a4e299df13336b456f16b",
            "_model_module": "@jupyter-widgets/controls",
            "children": [
              "IPY_MODEL_d0513ad296114f4dbeae05d91aea1560",
              "IPY_MODEL_54147c9b5ffa4fdf84d995d6f7ec2485"
            ]
          }
        },
        "700dc3fe910a4e299df13336b456f16b": {
          "model_module": "@jupyter-widgets/base",
          "model_name": "LayoutModel",
          "state": {
            "_view_name": "LayoutView",
            "grid_template_rows": null,
            "right": null,
            "justify_content": null,
            "_view_module": "@jupyter-widgets/base",
            "overflow": null,
            "_model_module_version": "1.2.0",
            "_view_count": null,
            "flex_flow": null,
            "width": null,
            "min_width": null,
            "border": null,
            "align_items": null,
            "bottom": null,
            "_model_module": "@jupyter-widgets/base",
            "top": null,
            "grid_column": null,
            "overflow_y": null,
            "overflow_x": null,
            "grid_auto_flow": null,
            "grid_area": null,
            "grid_template_columns": null,
            "flex": null,
            "_model_name": "LayoutModel",
            "justify_items": null,
            "grid_row": null,
            "max_height": null,
            "align_content": null,
            "visibility": null,
            "align_self": null,
            "height": null,
            "min_height": null,
            "padding": null,
            "grid_auto_rows": null,
            "grid_gap": null,
            "max_width": null,
            "order": null,
            "_view_module_version": "1.2.0",
            "grid_template_areas": null,
            "object_position": null,
            "object_fit": null,
            "grid_auto_columns": null,
            "margin": null,
            "display": null,
            "left": null
          }
        },
        "d0513ad296114f4dbeae05d91aea1560": {
          "model_module": "@jupyter-widgets/controls",
          "model_name": "FloatProgressModel",
          "state": {
            "_view_name": "ProgressView",
            "style": "IPY_MODEL_82d5b1e1c30d42d28c15eb50df34ff86",
            "_dom_classes": [],
            "description": "Downloading: 100%",
            "_model_name": "FloatProgressModel",
            "bar_style": "success",
            "max": 26,
            "_view_module": "@jupyter-widgets/controls",
            "_model_module_version": "1.5.0",
            "value": 26,
            "_view_count": null,
            "_view_module_version": "1.5.0",
            "orientation": "horizontal",
            "min": 0,
            "description_tooltip": null,
            "_model_module": "@jupyter-widgets/controls",
            "layout": "IPY_MODEL_e568a4337901477992d2fbd39f361fb9"
          }
        },
        "54147c9b5ffa4fdf84d995d6f7ec2485": {
          "model_module": "@jupyter-widgets/controls",
          "model_name": "HTMLModel",
          "state": {
            "_view_name": "HTMLView",
            "style": "IPY_MODEL_288737aac63a490cae3272f97cab4011",
            "_dom_classes": [],
            "description": "",
            "_model_name": "HTMLModel",
            "placeholder": "​",
            "_view_module": "@jupyter-widgets/controls",
            "_model_module_version": "1.5.0",
            "value": " 26.0/26.0 [00:00&lt;00:00, 171B/s]",
            "_view_count": null,
            "_view_module_version": "1.5.0",
            "description_tooltip": null,
            "_model_module": "@jupyter-widgets/controls",
            "layout": "IPY_MODEL_e8d54837b11e4472986929134eaa5a1e"
          }
        },
        "82d5b1e1c30d42d28c15eb50df34ff86": {
          "model_module": "@jupyter-widgets/controls",
          "model_name": "ProgressStyleModel",
          "state": {
            "_view_name": "StyleView",
            "_model_name": "ProgressStyleModel",
            "description_width": "initial",
            "_view_module": "@jupyter-widgets/base",
            "_model_module_version": "1.5.0",
            "_view_count": null,
            "_view_module_version": "1.2.0",
            "bar_color": null,
            "_model_module": "@jupyter-widgets/controls"
          }
        },
        "e568a4337901477992d2fbd39f361fb9": {
          "model_module": "@jupyter-widgets/base",
          "model_name": "LayoutModel",
          "state": {
            "_view_name": "LayoutView",
            "grid_template_rows": null,
            "right": null,
            "justify_content": null,
            "_view_module": "@jupyter-widgets/base",
            "overflow": null,
            "_model_module_version": "1.2.0",
            "_view_count": null,
            "flex_flow": null,
            "width": null,
            "min_width": null,
            "border": null,
            "align_items": null,
            "bottom": null,
            "_model_module": "@jupyter-widgets/base",
            "top": null,
            "grid_column": null,
            "overflow_y": null,
            "overflow_x": null,
            "grid_auto_flow": null,
            "grid_area": null,
            "grid_template_columns": null,
            "flex": null,
            "_model_name": "LayoutModel",
            "justify_items": null,
            "grid_row": null,
            "max_height": null,
            "align_content": null,
            "visibility": null,
            "align_self": null,
            "height": null,
            "min_height": null,
            "padding": null,
            "grid_auto_rows": null,
            "grid_gap": null,
            "max_width": null,
            "order": null,
            "_view_module_version": "1.2.0",
            "grid_template_areas": null,
            "object_position": null,
            "object_fit": null,
            "grid_auto_columns": null,
            "margin": null,
            "display": null,
            "left": null
          }
        },
        "288737aac63a490cae3272f97cab4011": {
          "model_module": "@jupyter-widgets/controls",
          "model_name": "DescriptionStyleModel",
          "state": {
            "_view_name": "StyleView",
            "_model_name": "DescriptionStyleModel",
            "description_width": "",
            "_view_module": "@jupyter-widgets/base",
            "_model_module_version": "1.5.0",
            "_view_count": null,
            "_view_module_version": "1.2.0",
            "_model_module": "@jupyter-widgets/controls"
          }
        },
        "e8d54837b11e4472986929134eaa5a1e": {
          "model_module": "@jupyter-widgets/base",
          "model_name": "LayoutModel",
          "state": {
            "_view_name": "LayoutView",
            "grid_template_rows": null,
            "right": null,
            "justify_content": null,
            "_view_module": "@jupyter-widgets/base",
            "overflow": null,
            "_model_module_version": "1.2.0",
            "_view_count": null,
            "flex_flow": null,
            "width": null,
            "min_width": null,
            "border": null,
            "align_items": null,
            "bottom": null,
            "_model_module": "@jupyter-widgets/base",
            "top": null,
            "grid_column": null,
            "overflow_y": null,
            "overflow_x": null,
            "grid_auto_flow": null,
            "grid_area": null,
            "grid_template_columns": null,
            "flex": null,
            "_model_name": "LayoutModel",
            "justify_items": null,
            "grid_row": null,
            "max_height": null,
            "align_content": null,
            "visibility": null,
            "align_self": null,
            "height": null,
            "min_height": null,
            "padding": null,
            "grid_auto_rows": null,
            "grid_gap": null,
            "max_width": null,
            "order": null,
            "_view_module_version": "1.2.0",
            "grid_template_areas": null,
            "object_position": null,
            "object_fit": null,
            "grid_auto_columns": null,
            "margin": null,
            "display": null,
            "left": null
          }
        }
      }
    },
    "accelerator": "GPU"
  },
  "cells": [
    {
      "cell_type": "markdown",
      "metadata": {
        "id": "B9cxoDrup07V"
      },
      "source": [
        "# Installing transformers & Importing dependencies"
      ]
    },
    {
      "cell_type": "code",
      "metadata": {
        "colab": {
          "base_uri": "https://localhost:8080/"
        },
        "id": "7sUGUtQkoOlg",
        "outputId": "e13a81a5-3643-4a72-b284-bbcaf473cf72"
      },
      "source": [
        "!pip install transformers"
      ],
      "execution_count": 1,
      "outputs": [
        {
          "output_type": "stream",
          "text": [
            "Collecting transformers\n",
            "\u001b[?25l  Downloading https://files.pythonhosted.org/packages/d5/43/cfe4ee779bbd6a678ac6a97c5a5cdeb03c35f9eaebbb9720b036680f9a2d/transformers-4.6.1-py3-none-any.whl (2.2MB)\n",
            "\r\u001b[K     |▏                               | 10kB 22.7MB/s eta 0:00:01\r\u001b[K     |▎                               | 20kB 28.6MB/s eta 0:00:01\r\u001b[K     |▍                               | 30kB 32.3MB/s eta 0:00:01\r\u001b[K     |▋                               | 40kB 30.1MB/s eta 0:00:01\r\u001b[K     |▊                               | 51kB 28.2MB/s eta 0:00:01\r\u001b[K     |▉                               | 61kB 30.1MB/s eta 0:00:01\r\u001b[K     |█                               | 71kB 31.4MB/s eta 0:00:01\r\u001b[K     |█▏                              | 81kB 28.6MB/s eta 0:00:01\r\u001b[K     |█▎                              | 92kB 30.0MB/s eta 0:00:01\r\u001b[K     |█▌                              | 102kB 27.5MB/s eta 0:00:01\r\u001b[K     |█▋                              | 112kB 27.5MB/s eta 0:00:01\r\u001b[K     |█▊                              | 122kB 27.5MB/s eta 0:00:01\r\u001b[K     |██                              | 133kB 27.5MB/s eta 0:00:01\r\u001b[K     |██                              | 143kB 27.5MB/s eta 0:00:01\r\u001b[K     |██▏                             | 153kB 27.5MB/s eta 0:00:01\r\u001b[K     |██▎                             | 163kB 27.5MB/s eta 0:00:01\r\u001b[K     |██▌                             | 174kB 27.5MB/s eta 0:00:01\r\u001b[K     |██▋                             | 184kB 27.5MB/s eta 0:00:01\r\u001b[K     |██▊                             | 194kB 27.5MB/s eta 0:00:01\r\u001b[K     |███                             | 204kB 27.5MB/s eta 0:00:01\r\u001b[K     |███                             | 215kB 27.5MB/s eta 0:00:01\r\u001b[K     |███▏                            | 225kB 27.5MB/s eta 0:00:01\r\u001b[K     |███▍                            | 235kB 27.5MB/s eta 0:00:01\r\u001b[K     |███▌                            | 245kB 27.5MB/s eta 0:00:01\r\u001b[K     |███▋                            | 256kB 27.5MB/s eta 0:00:01\r\u001b[K     |███▉                            | 266kB 27.5MB/s eta 0:00:01\r\u001b[K     |████                            | 276kB 27.5MB/s eta 0:00:01\r\u001b[K     |████                            | 286kB 27.5MB/s eta 0:00:01\r\u001b[K     |████▎                           | 296kB 27.5MB/s eta 0:00:01\r\u001b[K     |████▍                           | 307kB 27.5MB/s eta 0:00:01\r\u001b[K     |████▌                           | 317kB 27.5MB/s eta 0:00:01\r\u001b[K     |████▋                           | 327kB 27.5MB/s eta 0:00:01\r\u001b[K     |████▉                           | 337kB 27.5MB/s eta 0:00:01\r\u001b[K     |█████                           | 348kB 27.5MB/s eta 0:00:01\r\u001b[K     |█████                           | 358kB 27.5MB/s eta 0:00:01\r\u001b[K     |█████▎                          | 368kB 27.5MB/s eta 0:00:01\r\u001b[K     |█████▍                          | 378kB 27.5MB/s eta 0:00:01\r\u001b[K     |█████▌                          | 389kB 27.5MB/s eta 0:00:01\r\u001b[K     |█████▊                          | 399kB 27.5MB/s eta 0:00:01\r\u001b[K     |█████▉                          | 409kB 27.5MB/s eta 0:00:01\r\u001b[K     |██████                          | 419kB 27.5MB/s eta 0:00:01\r\u001b[K     |██████▏                         | 430kB 27.5MB/s eta 0:00:01\r\u001b[K     |██████▎                         | 440kB 27.5MB/s eta 0:00:01\r\u001b[K     |██████▍                         | 450kB 27.5MB/s eta 0:00:01\r\u001b[K     |██████▌                         | 460kB 27.5MB/s eta 0:00:01\r\u001b[K     |██████▊                         | 471kB 27.5MB/s eta 0:00:01\r\u001b[K     |██████▉                         | 481kB 27.5MB/s eta 0:00:01\r\u001b[K     |███████                         | 491kB 27.5MB/s eta 0:00:01\r\u001b[K     |███████▏                        | 501kB 27.5MB/s eta 0:00:01\r\u001b[K     |███████▎                        | 512kB 27.5MB/s eta 0:00:01\r\u001b[K     |███████▍                        | 522kB 27.5MB/s eta 0:00:01\r\u001b[K     |███████▋                        | 532kB 27.5MB/s eta 0:00:01\r\u001b[K     |███████▊                        | 542kB 27.5MB/s eta 0:00:01\r\u001b[K     |███████▉                        | 552kB 27.5MB/s eta 0:00:01\r\u001b[K     |████████                        | 563kB 27.5MB/s eta 0:00:01\r\u001b[K     |████████▏                       | 573kB 27.5MB/s eta 0:00:01\r\u001b[K     |████████▎                       | 583kB 27.5MB/s eta 0:00:01\r\u001b[K     |████████▌                       | 593kB 27.5MB/s eta 0:00:01\r\u001b[K     |████████▋                       | 604kB 27.5MB/s eta 0:00:01\r\u001b[K     |████████▊                       | 614kB 27.5MB/s eta 0:00:01\r\u001b[K     |████████▉                       | 624kB 27.5MB/s eta 0:00:01\r\u001b[K     |█████████                       | 634kB 27.5MB/s eta 0:00:01\r\u001b[K     |█████████▏                      | 645kB 27.5MB/s eta 0:00:01\r\u001b[K     |█████████▎                      | 655kB 27.5MB/s eta 0:00:01\r\u001b[K     |█████████▌                      | 665kB 27.5MB/s eta 0:00:01\r\u001b[K     |█████████▋                      | 675kB 27.5MB/s eta 0:00:01\r\u001b[K     |█████████▊                      | 686kB 27.5MB/s eta 0:00:01\r\u001b[K     |██████████                      | 696kB 27.5MB/s eta 0:00:01\r\u001b[K     |██████████                      | 706kB 27.5MB/s eta 0:00:01\r\u001b[K     |██████████▏                     | 716kB 27.5MB/s eta 0:00:01\r\u001b[K     |██████████▍                     | 727kB 27.5MB/s eta 0:00:01\r\u001b[K     |██████████▌                     | 737kB 27.5MB/s eta 0:00:01\r\u001b[K     |██████████▋                     | 747kB 27.5MB/s eta 0:00:01\r\u001b[K     |██████████▉                     | 757kB 27.5MB/s eta 0:00:01\r\u001b[K     |███████████                     | 768kB 27.5MB/s eta 0:00:01\r\u001b[K     |███████████                     | 778kB 27.5MB/s eta 0:00:01\r\u001b[K     |███████████▏                    | 788kB 27.5MB/s eta 0:00:01\r\u001b[K     |███████████▍                    | 798kB 27.5MB/s eta 0:00:01\r\u001b[K     |███████████▌                    | 808kB 27.5MB/s eta 0:00:01\r\u001b[K     |███████████▋                    | 819kB 27.5MB/s eta 0:00:01\r\u001b[K     |███████████▉                    | 829kB 27.5MB/s eta 0:00:01\r\u001b[K     |████████████                    | 839kB 27.5MB/s eta 0:00:01\r\u001b[K     |████████████                    | 849kB 27.5MB/s eta 0:00:01\r\u001b[K     |████████████▎                   | 860kB 27.5MB/s eta 0:00:01\r\u001b[K     |████████████▍                   | 870kB 27.5MB/s eta 0:00:01\r\u001b[K     |████████████▌                   | 880kB 27.5MB/s eta 0:00:01\r\u001b[K     |████████████▊                   | 890kB 27.5MB/s eta 0:00:01\r\u001b[K     |████████████▉                   | 901kB 27.5MB/s eta 0:00:01\r\u001b[K     |█████████████                   | 911kB 27.5MB/s eta 0:00:01\r\u001b[K     |█████████████                   | 921kB 27.5MB/s eta 0:00:01\r\u001b[K     |█████████████▎                  | 931kB 27.5MB/s eta 0:00:01\r\u001b[K     |█████████████▍                  | 942kB 27.5MB/s eta 0:00:01\r\u001b[K     |█████████████▌                  | 952kB 27.5MB/s eta 0:00:01\r\u001b[K     |█████████████▊                  | 962kB 27.5MB/s eta 0:00:01\r\u001b[K     |█████████████▉                  | 972kB 27.5MB/s eta 0:00:01\r\u001b[K     |██████████████                  | 983kB 27.5MB/s eta 0:00:01\r\u001b[K     |██████████████▏                 | 993kB 27.5MB/s eta 0:00:01\r\u001b[K     |██████████████▎                 | 1.0MB 27.5MB/s eta 0:00:01\r\u001b[K     |██████████████▍                 | 1.0MB 27.5MB/s eta 0:00:01\r\u001b[K     |██████████████▋                 | 1.0MB 27.5MB/s eta 0:00:01\r\u001b[K     |██████████████▊                 | 1.0MB 27.5MB/s eta 0:00:01\r\u001b[K     |██████████████▉                 | 1.0MB 27.5MB/s eta 0:00:01\r\u001b[K     |███████████████                 | 1.1MB 27.5MB/s eta 0:00:01\r\u001b[K     |███████████████▏                | 1.1MB 27.5MB/s eta 0:00:01\r\u001b[K     |███████████████▎                | 1.1MB 27.5MB/s eta 0:00:01\r\u001b[K     |███████████████▍                | 1.1MB 27.5MB/s eta 0:00:01\r\u001b[K     |███████████████▋                | 1.1MB 27.5MB/s eta 0:00:01\r\u001b[K     |███████████████▊                | 1.1MB 27.5MB/s eta 0:00:01\r\u001b[K     |███████████████▉                | 1.1MB 27.5MB/s eta 0:00:01\r\u001b[K     |████████████████                | 1.1MB 27.5MB/s eta 0:00:01\r\u001b[K     |████████████████▏               | 1.1MB 27.5MB/s eta 0:00:01\r\u001b[K     |████████████████▎               | 1.1MB 27.5MB/s eta 0:00:01\r\u001b[K     |████████████████▌               | 1.2MB 27.5MB/s eta 0:00:01\r\u001b[K     |████████████████▋               | 1.2MB 27.5MB/s eta 0:00:01\r\u001b[K     |████████████████▊               | 1.2MB 27.5MB/s eta 0:00:01\r\u001b[K     |█████████████████               | 1.2MB 27.5MB/s eta 0:00:01\r\u001b[K     |█████████████████               | 1.2MB 27.5MB/s eta 0:00:01\r\u001b[K     |█████████████████▏              | 1.2MB 27.5MB/s eta 0:00:01\r\u001b[K     |█████████████████▎              | 1.2MB 27.5MB/s eta 0:00:01\r\u001b[K     |█████████████████▌              | 1.2MB 27.5MB/s eta 0:00:01\r\u001b[K     |█████████████████▋              | 1.2MB 27.5MB/s eta 0:00:01\r\u001b[K     |█████████████████▊              | 1.2MB 27.5MB/s eta 0:00:01\r\u001b[K     |██████████████████              | 1.3MB 27.5MB/s eta 0:00:01\r\u001b[K     |██████████████████              | 1.3MB 27.5MB/s eta 0:00:01\r\u001b[K     |██████████████████▏             | 1.3MB 27.5MB/s eta 0:00:01\r\u001b[K     |██████████████████▍             | 1.3MB 27.5MB/s eta 0:00:01\r\u001b[K     |██████████████████▌             | 1.3MB 27.5MB/s eta 0:00:01\r\u001b[K     |██████████████████▋             | 1.3MB 27.5MB/s eta 0:00:01\r\u001b[K     |██████████████████▉             | 1.3MB 27.5MB/s eta 0:00:01\r\u001b[K     |███████████████████             | 1.3MB 27.5MB/s eta 0:00:01\r\u001b[K     |███████████████████             | 1.3MB 27.5MB/s eta 0:00:01\r\u001b[K     |███████████████████▎            | 1.4MB 27.5MB/s eta 0:00:01\r\u001b[K     |███████████████████▍            | 1.4MB 27.5MB/s eta 0:00:01\r\u001b[K     |███████████████████▌            | 1.4MB 27.5MB/s eta 0:00:01\r\u001b[K     |███████████████████▋            | 1.4MB 27.5MB/s eta 0:00:01\r\u001b[K     |███████████████████▉            | 1.4MB 27.5MB/s eta 0:00:01\r\u001b[K     |████████████████████            | 1.4MB 27.5MB/s eta 0:00:01\r\u001b[K     |████████████████████            | 1.4MB 27.5MB/s eta 0:00:01\r\u001b[K     |████████████████████▎           | 1.4MB 27.5MB/s eta 0:00:01\r\u001b[K     |████████████████████▍           | 1.4MB 27.5MB/s eta 0:00:01\r\u001b[K     |████████████████████▌           | 1.4MB 27.5MB/s eta 0:00:01\r\u001b[K     |████████████████████▊           | 1.5MB 27.5MB/s eta 0:00:01\r\u001b[K     |████████████████████▉           | 1.5MB 27.5MB/s eta 0:00:01\r\u001b[K     |█████████████████████           | 1.5MB 27.5MB/s eta 0:00:01\r\u001b[K     |█████████████████████▏          | 1.5MB 27.5MB/s eta 0:00:01\r\u001b[K     |█████████████████████▎          | 1.5MB 27.5MB/s eta 0:00:01\r\u001b[K     |█████████████████████▍          | 1.5MB 27.5MB/s eta 0:00:01\r\u001b[K     |█████████████████████▋          | 1.5MB 27.5MB/s eta 0:00:01\r\u001b[K     |█████████████████████▊          | 1.5MB 27.5MB/s eta 0:00:01\r\u001b[K     |█████████████████████▉          | 1.5MB 27.5MB/s eta 0:00:01\r\u001b[K     |██████████████████████          | 1.5MB 27.5MB/s eta 0:00:01\r\u001b[K     |██████████████████████▏         | 1.6MB 27.5MB/s eta 0:00:01\r\u001b[K     |██████████████████████▎         | 1.6MB 27.5MB/s eta 0:00:01\r\u001b[K     |██████████████████████▍         | 1.6MB 27.5MB/s eta 0:00:01\r\u001b[K     |██████████████████████▋         | 1.6MB 27.5MB/s eta 0:00:01\r\u001b[K     |██████████████████████▊         | 1.6MB 27.5MB/s eta 0:00:01\r\u001b[K     |██████████████████████▉         | 1.6MB 27.5MB/s eta 0:00:01\r\u001b[K     |███████████████████████         | 1.6MB 27.5MB/s eta 0:00:01\r\u001b[K     |███████████████████████▏        | 1.6MB 27.5MB/s eta 0:00:01\r\u001b[K     |███████████████████████▎        | 1.6MB 27.5MB/s eta 0:00:01\r\u001b[K     |███████████████████████▌        | 1.6MB 27.5MB/s eta 0:00:01\r\u001b[K     |███████████████████████▋        | 1.7MB 27.5MB/s eta 0:00:01\r\u001b[K     |███████████████████████▊        | 1.7MB 27.5MB/s eta 0:00:01\r\u001b[K     |███████████████████████▉        | 1.7MB 27.5MB/s eta 0:00:01\r\u001b[K     |████████████████████████        | 1.7MB 27.5MB/s eta 0:00:01\r\u001b[K     |████████████████████████▏       | 1.7MB 27.5MB/s eta 0:00:01\r\u001b[K     |████████████████████████▎       | 1.7MB 27.5MB/s eta 0:00:01\r\u001b[K     |████████████████████████▌       | 1.7MB 27.5MB/s eta 0:00:01\r\u001b[K     |████████████████████████▋       | 1.7MB 27.5MB/s eta 0:00:01\r\u001b[K     |████████████████████████▊       | 1.7MB 27.5MB/s eta 0:00:01\r\u001b[K     |█████████████████████████       | 1.8MB 27.5MB/s eta 0:00:01\r\u001b[K     |█████████████████████████       | 1.8MB 27.5MB/s eta 0:00:01\r\u001b[K     |█████████████████████████▏      | 1.8MB 27.5MB/s eta 0:00:01\r\u001b[K     |█████████████████████████▍      | 1.8MB 27.5MB/s eta 0:00:01\r\u001b[K     |█████████████████████████▌      | 1.8MB 27.5MB/s eta 0:00:01\r\u001b[K     |█████████████████████████▋      | 1.8MB 27.5MB/s eta 0:00:01\r\u001b[K     |█████████████████████████▉      | 1.8MB 27.5MB/s eta 0:00:01\r\u001b[K     |██████████████████████████      | 1.8MB 27.5MB/s eta 0:00:01\r\u001b[K     |██████████████████████████      | 1.8MB 27.5MB/s eta 0:00:01\r\u001b[K     |██████████████████████████▏     | 1.8MB 27.5MB/s eta 0:00:01\r\u001b[K     |██████████████████████████▍     | 1.9MB 27.5MB/s eta 0:00:01\r\u001b[K     |██████████████████████████▌     | 1.9MB 27.5MB/s eta 0:00:01\r\u001b[K     |██████████████████████████▋     | 1.9MB 27.5MB/s eta 0:00:01\r\u001b[K     |██████████████████████████▉     | 1.9MB 27.5MB/s eta 0:00:01\r\u001b[K     |███████████████████████████     | 1.9MB 27.5MB/s eta 0:00:01\r\u001b[K     |███████████████████████████     | 1.9MB 27.5MB/s eta 0:00:01\r\u001b[K     |███████████████████████████▎    | 1.9MB 27.5MB/s eta 0:00:01\r\u001b[K     |███████████████████████████▍    | 1.9MB 27.5MB/s eta 0:00:01\r\u001b[K     |███████████████████████████▌    | 1.9MB 27.5MB/s eta 0:00:01\r\u001b[K     |███████████████████████████▊    | 1.9MB 27.5MB/s eta 0:00:01\r\u001b[K     |███████████████████████████▉    | 2.0MB 27.5MB/s eta 0:00:01\r\u001b[K     |████████████████████████████    | 2.0MB 27.5MB/s eta 0:00:01\r\u001b[K     |████████████████████████████▏   | 2.0MB 27.5MB/s eta 0:00:01\r\u001b[K     |████████████████████████████▎   | 2.0MB 27.5MB/s eta 0:00:01\r\u001b[K     |████████████████████████████▍   | 2.0MB 27.5MB/s eta 0:00:01\r\u001b[K     |████████████████████████████▌   | 2.0MB 27.5MB/s eta 0:00:01\r\u001b[K     |████████████████████████████▊   | 2.0MB 27.5MB/s eta 0:00:01\r\u001b[K     |████████████████████████████▉   | 2.0MB 27.5MB/s eta 0:00:01\r\u001b[K     |█████████████████████████████   | 2.0MB 27.5MB/s eta 0:00:01\r\u001b[K     |█████████████████████████████▏  | 2.0MB 27.5MB/s eta 0:00:01\r\u001b[K     |█████████████████████████████▎  | 2.1MB 27.5MB/s eta 0:00:01\r\u001b[K     |█████████████████████████████▍  | 2.1MB 27.5MB/s eta 0:00:01\r\u001b[K     |█████████████████████████████▋  | 2.1MB 27.5MB/s eta 0:00:01\r\u001b[K     |█████████████████████████████▊  | 2.1MB 27.5MB/s eta 0:00:01\r\u001b[K     |█████████████████████████████▉  | 2.1MB 27.5MB/s eta 0:00:01\r\u001b[K     |██████████████████████████████  | 2.1MB 27.5MB/s eta 0:00:01\r\u001b[K     |██████████████████████████████▏ | 2.1MB 27.5MB/s eta 0:00:01\r\u001b[K     |██████████████████████████████▎ | 2.1MB 27.5MB/s eta 0:00:01\r\u001b[K     |██████████████████████████████▍ | 2.1MB 27.5MB/s eta 0:00:01\r\u001b[K     |██████████████████████████████▋ | 2.2MB 27.5MB/s eta 0:00:01\r\u001b[K     |██████████████████████████████▊ | 2.2MB 27.5MB/s eta 0:00:01\r\u001b[K     |██████████████████████████████▉ | 2.2MB 27.5MB/s eta 0:00:01\r\u001b[K     |███████████████████████████████ | 2.2MB 27.5MB/s eta 0:00:01\r\u001b[K     |███████████████████████████████▏| 2.2MB 27.5MB/s eta 0:00:01\r\u001b[K     |███████████████████████████████▎| 2.2MB 27.5MB/s eta 0:00:01\r\u001b[K     |███████████████████████████████▌| 2.2MB 27.5MB/s eta 0:00:01\r\u001b[K     |███████████████████████████████▋| 2.2MB 27.5MB/s eta 0:00:01\r\u001b[K     |███████████████████████████████▊| 2.2MB 27.5MB/s eta 0:00:01\r\u001b[K     |████████████████████████████████| 2.2MB 27.5MB/s eta 0:00:01\r\u001b[K     |████████████████████████████████| 2.3MB 27.5MB/s \n",
            "\u001b[?25hRequirement already satisfied: requests in /usr/local/lib/python3.7/dist-packages (from transformers) (2.23.0)\n",
            "Requirement already satisfied: importlib-metadata; python_version < \"3.8\" in /usr/local/lib/python3.7/dist-packages (from transformers) (4.0.1)\n",
            "Collecting huggingface-hub==0.0.8\n",
            "  Downloading https://files.pythonhosted.org/packages/a1/88/7b1e45720ecf59c6c6737ff332f41c955963090a18e72acbcbeac6b25e86/huggingface_hub-0.0.8-py3-none-any.whl\n",
            "Requirement already satisfied: regex!=2019.12.17 in /usr/local/lib/python3.7/dist-packages (from transformers) (2019.12.20)\n",
            "Collecting sacremoses\n",
            "\u001b[?25l  Downloading https://files.pythonhosted.org/packages/75/ee/67241dc87f266093c533a2d4d3d69438e57d7a90abb216fa076e7d475d4a/sacremoses-0.0.45-py3-none-any.whl (895kB)\n",
            "\u001b[K     |████████████████████████████████| 901kB 54.2MB/s \n",
            "\u001b[?25hCollecting tokenizers<0.11,>=0.10.1\n",
            "\u001b[?25l  Downloading https://files.pythonhosted.org/packages/d4/e2/df3543e8ffdab68f5acc73f613de9c2b155ac47f162e725dcac87c521c11/tokenizers-0.10.3-cp37-cp37m-manylinux_2_5_x86_64.manylinux1_x86_64.manylinux_2_12_x86_64.manylinux2010_x86_64.whl (3.3MB)\n",
            "\u001b[K     |████████████████████████████████| 3.3MB 51.1MB/s \n",
            "\u001b[?25hRequirement already satisfied: packaging in /usr/local/lib/python3.7/dist-packages (from transformers) (20.9)\n",
            "Requirement already satisfied: filelock in /usr/local/lib/python3.7/dist-packages (from transformers) (3.0.12)\n",
            "Requirement already satisfied: tqdm>=4.27 in /usr/local/lib/python3.7/dist-packages (from transformers) (4.41.1)\n",
            "Requirement already satisfied: numpy>=1.17 in /usr/local/lib/python3.7/dist-packages (from transformers) (1.19.5)\n",
            "Requirement already satisfied: chardet<4,>=3.0.2 in /usr/local/lib/python3.7/dist-packages (from requests->transformers) (3.0.4)\n",
            "Requirement already satisfied: urllib3!=1.25.0,!=1.25.1,<1.26,>=1.21.1 in /usr/local/lib/python3.7/dist-packages (from requests->transformers) (1.24.3)\n",
            "Requirement already satisfied: certifi>=2017.4.17 in /usr/local/lib/python3.7/dist-packages (from requests->transformers) (2020.12.5)\n",
            "Requirement already satisfied: idna<3,>=2.5 in /usr/local/lib/python3.7/dist-packages (from requests->transformers) (2.10)\n",
            "Requirement already satisfied: zipp>=0.5 in /usr/local/lib/python3.7/dist-packages (from importlib-metadata; python_version < \"3.8\"->transformers) (3.4.1)\n",
            "Requirement already satisfied: typing-extensions>=3.6.4; python_version < \"3.8\" in /usr/local/lib/python3.7/dist-packages (from importlib-metadata; python_version < \"3.8\"->transformers) (3.7.4.3)\n",
            "Requirement already satisfied: six in /usr/local/lib/python3.7/dist-packages (from sacremoses->transformers) (1.15.0)\n",
            "Requirement already satisfied: joblib in /usr/local/lib/python3.7/dist-packages (from sacremoses->transformers) (1.0.1)\n",
            "Requirement already satisfied: click in /usr/local/lib/python3.7/dist-packages (from sacremoses->transformers) (8.0.0)\n",
            "Requirement already satisfied: pyparsing>=2.0.2 in /usr/local/lib/python3.7/dist-packages (from packaging->transformers) (2.4.7)\n",
            "Installing collected packages: huggingface-hub, sacremoses, tokenizers, transformers\n",
            "Successfully installed huggingface-hub-0.0.8 sacremoses-0.0.45 tokenizers-0.10.3 transformers-4.6.1\n"
          ],
          "name": "stdout"
        }
      ]
    },
    {
      "cell_type": "code",
      "metadata": {
        "id": "SlUpDKV1ptNf"
      },
      "source": [
        "from transformers import pipeline"
      ],
      "execution_count": 2,
      "outputs": []
    },
    {
      "cell_type": "markdown",
      "metadata": {
        "id": "y0ccbdq5qCsL"
      },
      "source": [
        "1. Loading Sumamrization pipeline"
      ]
    },
    {
      "cell_type": "code",
      "metadata": {
        "colab": {
          "base_uri": "https://localhost:8080/",
          "height": 264,
          "referenced_widgets": [
            "fb2a7f43093a47b9829ff908a691be83",
            "66d8497e8f8e4682abf3188a2605974d",
            "3c3f358006ca4d63bf396885a5922628",
            "50e61d6f9cb7416ab6c4cd7d09b86e32",
            "ad711516347f42d29519a4e252a9e7f7",
            "ff0e4fcff80147d2aebcaee12e28c057",
            "13bbf43a72fe4e9e828e84949079137e",
            "20bfde2e852441b98c26b0f33c468a2c",
            "ce068b46939c4771a688fd32d0cf70cd",
            "76e5a946d44046a1957e62ab72579f75",
            "0725fc3292cd4324b26895cfc2f136a0",
            "b8530d29727e4e82940a57a6d9f40fa7",
            "dcb8c3676ba84a9a8a612265b9006eec",
            "5070e8efc1474d7fbc2ab1a76ef90710",
            "1f53a3d6a486415d99d8531a6715f5da",
            "2edad958093440359a377d26176289e0",
            "83d6b2b4740f47e3a4e06a813e8f342a",
            "5c9eb604bf744adebc70286cd11bc82d",
            "22112eca54b84947bbb185c75047ea86",
            "57bfccec07f14fcbaca5da8f2bb4f064",
            "a51307bd1cee477687af11908f153c06",
            "e5b36e580bf9449db3de06539f54639b",
            "df2413e676b541e4b9f365609375cd9e",
            "0277683bd8f4450aadef861e3b4ae980",
            "589a102fbfb348f3adafe8af0e688799",
            "eccca67a3ac74de38d6c5ad70164dc07",
            "3c4176b4fe094a7787de5702b1b8d1b1",
            "206070fd61344e71a0f39bb8bd4fc80e",
            "16de55cb087f480d942405d7537e6bc9",
            "a31dae7ee4804184aa0c814aec9bffca",
            "38418fb9e20342d9ab9311b5d3ad0c59",
            "471b50d4809643f4884249c31fb7dc85",
            "19a43091fe874b8b8d0106318b05bfb6",
            "700dc3fe910a4e299df13336b456f16b",
            "d0513ad296114f4dbeae05d91aea1560",
            "54147c9b5ffa4fdf84d995d6f7ec2485",
            "82d5b1e1c30d42d28c15eb50df34ff86",
            "e568a4337901477992d2fbd39f361fb9",
            "288737aac63a490cae3272f97cab4011",
            "e8d54837b11e4472986929134eaa5a1e"
          ]
        },
        "id": "6cWc2obmqJML",
        "outputId": "8dbd576c-c289-4ca3-a24e-eee95710bc94"
      },
      "source": [
        "summarizer= pipeline ('summarization')"
      ],
      "execution_count": 3,
      "outputs": [
        {
          "output_type": "display_data",
          "data": {
            "application/vnd.jupyter.widget-view+json": {
              "model_id": "fb2a7f43093a47b9829ff908a691be83",
              "version_minor": 0,
              "version_major": 2
            },
            "text/plain": [
              "HBox(children=(FloatProgress(value=0.0, description='Downloading', max=1649.0, style=ProgressStyle(description…"
            ]
          },
          "metadata": {
            "tags": []
          }
        },
        {
          "output_type": "stream",
          "text": [
            "\n"
          ],
          "name": "stdout"
        },
        {
          "output_type": "display_data",
          "data": {
            "application/vnd.jupyter.widget-view+json": {
              "model_id": "ce068b46939c4771a688fd32d0cf70cd",
              "version_minor": 0,
              "version_major": 2
            },
            "text/plain": [
              "HBox(children=(FloatProgress(value=0.0, description='Downloading', max=1222317369.0, style=ProgressStyle(descr…"
            ]
          },
          "metadata": {
            "tags": []
          }
        },
        {
          "output_type": "stream",
          "text": [
            "\n"
          ],
          "name": "stdout"
        },
        {
          "output_type": "display_data",
          "data": {
            "application/vnd.jupyter.widget-view+json": {
              "model_id": "83d6b2b4740f47e3a4e06a813e8f342a",
              "version_minor": 0,
              "version_major": 2
            },
            "text/plain": [
              "HBox(children=(FloatProgress(value=0.0, description='Downloading', max=898822.0, style=ProgressStyle(descripti…"
            ]
          },
          "metadata": {
            "tags": []
          }
        },
        {
          "output_type": "stream",
          "text": [
            "\n"
          ],
          "name": "stdout"
        },
        {
          "output_type": "display_data",
          "data": {
            "application/vnd.jupyter.widget-view+json": {
              "model_id": "589a102fbfb348f3adafe8af0e688799",
              "version_minor": 0,
              "version_major": 2
            },
            "text/plain": [
              "HBox(children=(FloatProgress(value=0.0, description='Downloading', max=456318.0, style=ProgressStyle(descripti…"
            ]
          },
          "metadata": {
            "tags": []
          }
        },
        {
          "output_type": "stream",
          "text": [
            "\n"
          ],
          "name": "stdout"
        },
        {
          "output_type": "display_data",
          "data": {
            "application/vnd.jupyter.widget-view+json": {
              "model_id": "19a43091fe874b8b8d0106318b05bfb6",
              "version_minor": 0,
              "version_major": 2
            },
            "text/plain": [
              "HBox(children=(FloatProgress(value=0.0, description='Downloading', max=26.0, style=ProgressStyle(description_w…"
            ]
          },
          "metadata": {
            "tags": []
          }
        },
        {
          "output_type": "stream",
          "text": [
            "\n"
          ],
          "name": "stdout"
        }
      ]
    },
    {
      "cell_type": "markdown",
      "metadata": {
        "id": "p4vDjqY2r7cG"
      },
      "source": [
        "2. Sumamrize text"
      ]
    },
    {
      "cell_type": "code",
      "metadata": {
        "id": "asVkj3Vur_2I"
      },
      "source": [
        " response =\"\"\"\n",
        "I had unprotected sex with a man last week and afterwards, he told me that his previous partner has HSV-2. He told me that she hasn’t had an outbreak in years and that he’s never had an outbreak. Should I be concerned about contracting HSV-2? I was going to get tested in a month and see what the results are. Just been feeling pretty depressed about all of this. Any information will help\n",
        " \"\"\""
      ],
      "execution_count": 4,
      "outputs": []
    },
    {
      "cell_type": "code",
      "metadata": {
        "colab": {
          "base_uri": "https://localhost:8080/"
        },
        "id": "-XiJzE4ns0Gy",
        "outputId": "f2652b13-b568-4597-9411-92f433578099"
      },
      "source": [
        "summarizer(response, max_length=30, min_length= 15, do_sample= False)"
      ],
      "execution_count": 5,
      "outputs": [
        {
          "output_type": "execute_result",
          "data": {
            "text/plain": [
              "[{'summary_text': ' Should I be concerned about contracting HSV-2? I was going to get tested in a month and see what the results are?'}]"
            ]
          },
          "metadata": {
            "tags": []
          },
          "execution_count": 5
        }
      ]
    },
    {
      "cell_type": "code",
      "metadata": {
        "id": "cuLPICQpuOd2"
      },
      "source": [
        "response1= \"\"\"Dear members,\n",
        "\n",
        "Many of us, including myself, have spent a good bit of time in hospitals, as a patient or a caregiver or both, and have ideas about how hospitals can improve.\n",
        "\n",
        "Dr. Harlan Krumholz, a cardiologist, healthcare scientist, and health care improvement expert at Yale University, recently asked the following questions on Twitter:\n",
        "\n",
        "“I am curious to know from patients, especially those recently in the hospital: What do you wish we did better? What were the most obvious ways that quality could be improved throughout hospitalization and in the transition to home? We should all really want to know. What should we improve?”\n",
        "\n",
        "Harlan’s tweet generated many good replies, and several days ago I asked Harlan what he would think about me posing this question on his behalf here in Inspire. As Harlan is, I’m proud to say, a fan of Inspire, he readily agreed. I invite you to reply to this discussion with answers to the questions he posed, so that we can help to drive positive change in hospitals.\n",
        "\n",
        "We would like to create a summary from your answers and share them, in an anonymous fashion (no Inspire username), as an essay in a publication, or present the combined insights at a conference. We will let you know of any publication or presentation of this information. Your perspectives matter, and together we can make an impact.\n",
        "\n",
        "I look forward to reading your thoughts and ideas, and if for any reason you would prefer that we not include your answer in our summary, just write, “Don’t share” in your reply.\n",
        "\n",
        "Together we're better,\n",
        "Brian Loew\n",
        "Founder, Inspire\"\"\"\n"
      ],
      "execution_count": 6,
      "outputs": []
    },
    {
      "cell_type": "code",
      "metadata": {
        "id": "cG7B1Rq-uTmU"
      },
      "source": [
        "summary_text= summarizer(response1, max_length=240, min_length= 15, do_sample= False)"
      ],
      "execution_count": 7,
      "outputs": []
    },
    {
      "cell_type": "code",
      "metadata": {
        "colab": {
          "base_uri": "https://localhost:8080/"
        },
        "id": "p6eaI60dp8-r",
        "outputId": "98b83b8a-0738-4311-e6f6-b8df43c6e313"
      },
      "source": [
        "summary_text[0] #a dictionary"
      ],
      "execution_count": 8,
      "outputs": [
        {
          "output_type": "execute_result",
          "data": {
            "text/plain": [
              "{'summary_text': ' Dr. Harlan Krumholz, a cardiologist, healthcare scientist at Yale University, recently asked the following questions on Twitter: What do you wish we did better? What were the most obvious ways that quality could be improved throughout hospitalization and in the transition to home?'}"
            ]
          },
          "metadata": {
            "tags": []
          },
          "execution_count": 8
        }
      ]
    },
    {
      "cell_type": "code",
      "metadata": {
        "colab": {
          "base_uri": "https://localhost:8080/",
          "height": 52
        },
        "id": "R660kiS-wBRz",
        "outputId": "a2230dab-77b5-4dc5-fb51-9fd93a163f2e"
      },
      "source": [
        "summary_text[0]['summary_text']"
      ],
      "execution_count": 9,
      "outputs": [
        {
          "output_type": "execute_result",
          "data": {
            "application/vnd.google.colaboratory.intrinsic+json": {
              "type": "string"
            },
            "text/plain": [
              "' Dr. Harlan Krumholz, a cardiologist, healthcare scientist at Yale University, recently asked the following questions on Twitter: What do you wish we did better? What were the most obvious ways that quality could be improved throughout hospitalization and in the transition to home?'"
            ]
          },
          "metadata": {
            "tags": []
          },
          "execution_count": 9
        }
      ]
    },
    {
      "cell_type": "code",
      "metadata": {
        "id": "mDjhe3C7xJbn"
      },
      "source": [
        "import pandas as pd\n",
        "dataset_df= pd.read_csv('/content/drive/MyDrive/STD_NLP_Analysis/std_data_finalizing.csv',encoding='latin1')\n",
        "\n"
      ],
      "execution_count": 10,
      "outputs": []
    },
    {
      "cell_type": "code",
      "metadata": {
        "colab": {
          "base_uri": "https://localhost:8080/"
        },
        "id": "IxOj_QeqyeQD",
        "outputId": "d9a3a08e-cc88-4e22-99a9-ed4ef211bbcb"
      },
      "source": [
        "print(dataset_df.shape)"
      ],
      "execution_count": 11,
      "outputs": [
        {
          "output_type": "stream",
          "text": [
            "(574, 4)\n"
          ],
          "name": "stdout"
        }
      ]
    },
    {
      "cell_type": "code",
      "metadata": {
        "colab": {
          "base_uri": "https://localhost:8080/"
        },
        "id": "c0nzSABVypYN",
        "outputId": "d99dcf6a-5ce8-4965-aa09-d01f34059cd6"
      },
      "source": [
        "print(\"NUmber of datapoints=  \", dataset_df.shape[0])"
      ],
      "execution_count": 12,
      "outputs": [
        {
          "output_type": "stream",
          "text": [
            "NUmber of datapoints=   574\n"
          ],
          "name": "stdout"
        }
      ]
    },
    {
      "cell_type": "code",
      "metadata": {
        "colab": {
          "base_uri": "https://localhost:8080/",
          "height": 198
        },
        "id": "aJSKb4EpyvIC",
        "outputId": "8342e95a-8a80-46bf-bcd4-27f704d841d7"
      },
      "source": [
        "dataset_df.head()"
      ],
      "execution_count": 13,
      "outputs": [
        {
          "output_type": "execute_result",
          "data": {
            "text/html": [
              "<div>\n",
              "<style scoped>\n",
              "    .dataframe tbody tr th:only-of-type {\n",
              "        vertical-align: middle;\n",
              "    }\n",
              "\n",
              "    .dataframe tbody tr th {\n",
              "        vertical-align: top;\n",
              "    }\n",
              "\n",
              "    .dataframe thead th {\n",
              "        text-align: right;\n",
              "    }\n",
              "</style>\n",
              "<table border=\"1\" class=\"dataframe\">\n",
              "  <thead>\n",
              "    <tr style=\"text-align: right;\">\n",
              "      <th></th>\n",
              "      <th>Name</th>\n",
              "      <th>Profile_url</th>\n",
              "      <th>Description</th>\n",
              "      <th>Time</th>\n",
              "    </tr>\n",
              "  </thead>\n",
              "  <tbody>\n",
              "    <tr>\n",
              "      <th>0</th>\n",
              "      <td>hellomorgan</td>\n",
              "      <td>https://www.inspire.com/m/hellomorgan/</td>\n",
              "      <td>I had unprotected sex with a man last week and...</td>\n",
              "      <td>Yesterday at 4:02 pm</td>\n",
              "    </tr>\n",
              "    <tr>\n",
              "      <th>1</th>\n",
              "      <td>sdiv</td>\n",
              "      <td>https://www.inspire.com/m/sdiv/</td>\n",
              "      <td>Im feeling...hopeless. Ive had great strides...</td>\n",
              "      <td>June 28, 2019 at 3:19 am</td>\n",
              "    </tr>\n",
              "    <tr>\n",
              "      <th>2</th>\n",
              "      <td>Brian</td>\n",
              "      <td>https://www.inspire.com/m/Brian/</td>\n",
              "      <td>Dear members,\\n\\nMany of us, including myself,...</td>\n",
              "      <td>March 13, 2019 at 10:24 am</td>\n",
              "    </tr>\n",
              "    <tr>\n",
              "      <th>3</th>\n",
              "      <td>mastergousau2</td>\n",
              "      <td>https://www.inspire.com/m/mastergousau2/</td>\n",
              "      <td>**Attached photo(uncircumcised flaccid penis(f...</td>\n",
              "      <td>June 19, 2019 at 12:56 pm</td>\n",
              "    </tr>\n",
              "    <tr>\n",
              "      <th>4</th>\n",
              "      <td>khack2471</td>\n",
              "      <td>https://www.inspire.com/m/khack2471/</td>\n",
              "      <td>Since I have had hpv on numerous of occasions ...</td>\n",
              "      <td>June 19, 2019 at 11:50 pm</td>\n",
              "    </tr>\n",
              "  </tbody>\n",
              "</table>\n",
              "</div>"
            ],
            "text/plain": [
              "            Name  ...                        Time\n",
              "0    hellomorgan  ...        Yesterday at 4:02 pm\n",
              "1           sdiv  ...    June 28, 2019 at 3:19 am\n",
              "2          Brian  ...  March 13, 2019 at 10:24 am\n",
              "3  mastergousau2  ...   June 19, 2019 at 12:56 pm\n",
              "4      khack2471  ...   June 19, 2019 at 11:50 pm\n",
              "\n",
              "[5 rows x 4 columns]"
            ]
          },
          "metadata": {
            "tags": []
          },
          "execution_count": 13
        }
      ]
    },
    {
      "cell_type": "code",
      "metadata": {
        "colab": {
          "base_uri": "https://localhost:8080/"
        },
        "id": "PXxotDKhzTPD",
        "outputId": "8b20d2cc-1f96-4ae5-d2dc-48316b40aec2"
      },
      "source": [
        "print('Features : ', dataset_df.columns.values)"
      ],
      "execution_count": 14,
      "outputs": [
        {
          "output_type": "stream",
          "text": [
            "Features :  ['Name' 'Profile_url' 'Description' 'Time']\n"
          ],
          "name": "stdout"
        }
      ]
    },
    {
      "cell_type": "code",
      "metadata": {
        "colab": {
          "base_uri": "https://localhost:8080/",
          "height": 48
        },
        "id": "gBEs_AHszjFt",
        "outputId": "3a29d5b5-8de3-46a1-daeb-524893eb32a2"
      },
      "source": [
        "dataset_df[dataset_df.isnull().any(axis=1)]"
      ],
      "execution_count": 15,
      "outputs": [
        {
          "output_type": "execute_result",
          "data": {
            "text/html": [
              "<div>\n",
              "<style scoped>\n",
              "    .dataframe tbody tr th:only-of-type {\n",
              "        vertical-align: middle;\n",
              "    }\n",
              "\n",
              "    .dataframe tbody tr th {\n",
              "        vertical-align: top;\n",
              "    }\n",
              "\n",
              "    .dataframe thead th {\n",
              "        text-align: right;\n",
              "    }\n",
              "</style>\n",
              "<table border=\"1\" class=\"dataframe\">\n",
              "  <thead>\n",
              "    <tr style=\"text-align: right;\">\n",
              "      <th></th>\n",
              "      <th>Name</th>\n",
              "      <th>Profile_url</th>\n",
              "      <th>Description</th>\n",
              "      <th>Time</th>\n",
              "    </tr>\n",
              "  </thead>\n",
              "  <tbody>\n",
              "  </tbody>\n",
              "</table>\n",
              "</div>"
            ],
            "text/plain": [
              "Empty DataFrame\n",
              "Columns: [Name, Profile_url, Description, Time]\n",
              "Index: []"
            ]
          },
          "metadata": {
            "tags": []
          },
          "execution_count": 15
        }
      ]
    },
    {
      "cell_type": "code",
      "metadata": {
        "colab": {
          "base_uri": "https://localhost:8080/",
          "height": 198
        },
        "id": "yPv9zv-L2DKp",
        "outputId": "b690ebcd-9cb1-4d97-98f6-51a58c1eb563"
      },
      "source": [
        "dataset_df.head()"
      ],
      "execution_count": 16,
      "outputs": [
        {
          "output_type": "execute_result",
          "data": {
            "text/html": [
              "<div>\n",
              "<style scoped>\n",
              "    .dataframe tbody tr th:only-of-type {\n",
              "        vertical-align: middle;\n",
              "    }\n",
              "\n",
              "    .dataframe tbody tr th {\n",
              "        vertical-align: top;\n",
              "    }\n",
              "\n",
              "    .dataframe thead th {\n",
              "        text-align: right;\n",
              "    }\n",
              "</style>\n",
              "<table border=\"1\" class=\"dataframe\">\n",
              "  <thead>\n",
              "    <tr style=\"text-align: right;\">\n",
              "      <th></th>\n",
              "      <th>Name</th>\n",
              "      <th>Profile_url</th>\n",
              "      <th>Description</th>\n",
              "      <th>Time</th>\n",
              "    </tr>\n",
              "  </thead>\n",
              "  <tbody>\n",
              "    <tr>\n",
              "      <th>0</th>\n",
              "      <td>hellomorgan</td>\n",
              "      <td>https://www.inspire.com/m/hellomorgan/</td>\n",
              "      <td>I had unprotected sex with a man last week and...</td>\n",
              "      <td>Yesterday at 4:02 pm</td>\n",
              "    </tr>\n",
              "    <tr>\n",
              "      <th>1</th>\n",
              "      <td>sdiv</td>\n",
              "      <td>https://www.inspire.com/m/sdiv/</td>\n",
              "      <td>Im feeling...hopeless. Ive had great strides...</td>\n",
              "      <td>June 28, 2019 at 3:19 am</td>\n",
              "    </tr>\n",
              "    <tr>\n",
              "      <th>2</th>\n",
              "      <td>Brian</td>\n",
              "      <td>https://www.inspire.com/m/Brian/</td>\n",
              "      <td>Dear members,\\n\\nMany of us, including myself,...</td>\n",
              "      <td>March 13, 2019 at 10:24 am</td>\n",
              "    </tr>\n",
              "    <tr>\n",
              "      <th>3</th>\n",
              "      <td>mastergousau2</td>\n",
              "      <td>https://www.inspire.com/m/mastergousau2/</td>\n",
              "      <td>**Attached photo(uncircumcised flaccid penis(f...</td>\n",
              "      <td>June 19, 2019 at 12:56 pm</td>\n",
              "    </tr>\n",
              "    <tr>\n",
              "      <th>4</th>\n",
              "      <td>khack2471</td>\n",
              "      <td>https://www.inspire.com/m/khack2471/</td>\n",
              "      <td>Since I have had hpv on numerous of occasions ...</td>\n",
              "      <td>June 19, 2019 at 11:50 pm</td>\n",
              "    </tr>\n",
              "  </tbody>\n",
              "</table>\n",
              "</div>"
            ],
            "text/plain": [
              "            Name  ...                        Time\n",
              "0    hellomorgan  ...        Yesterday at 4:02 pm\n",
              "1           sdiv  ...    June 28, 2019 at 3:19 am\n",
              "2          Brian  ...  March 13, 2019 at 10:24 am\n",
              "3  mastergousau2  ...   June 19, 2019 at 12:56 pm\n",
              "4      khack2471  ...   June 19, 2019 at 11:50 pm\n",
              "\n",
              "[5 rows x 4 columns]"
            ]
          },
          "metadata": {
            "tags": []
          },
          "execution_count": 16
        }
      ]
    },
    {
      "cell_type": "code",
      "metadata": {
        "colab": {
          "base_uri": "https://localhost:8080/"
        },
        "id": "rkYVtnYRGUfj",
        "outputId": "82e748db-74b3-49dc-ea4b-fc4e37d602d6"
      },
      "source": [
        "for index, rows in dataset_df.iterrows():\n",
        "  if index==0:\n",
        "    print(\"index=\", index)\n",
        "    response=(rows['Description'])\n",
        "    print(len(response))\n",
        "    print(response)"
      ],
      "execution_count": 17,
      "outputs": [
        {
          "output_type": "stream",
          "text": [
            "index= 0\n",
            "389\n",
            "I had unprotected sex with a man last week and afterwards, he told me that his previous partner has HSV-2. He told me that she hasnt had an outbreak in years and that hes never had an outbreak. Should I be concerned about contracting HSV-2? I was going to get tested in a month and see what the results are. Just been feeling pretty depressed about all of this. Any information will help\n"
          ],
          "name": "stdout"
        }
      ]
    },
    {
      "cell_type": "code",
      "metadata": {
        "id": "hCAO-Wax3UH2"
      },
      "source": [
        "summarizer=pipeline('summarization')"
      ],
      "execution_count": 18,
      "outputs": []
    },
    {
      "cell_type": "code",
      "metadata": {
        "id": "pj5xxkgb15cB",
        "colab": {
          "base_uri": "https://localhost:8080/"
        },
        "outputId": "bc90b7eb-f087-45c0-d2d5-cdec1d368916"
      },
      "source": [
        "\n",
        "\n",
        "responseSummaryList=[]\n",
        "\n",
        "for index, rows in dataset_df.iterrows():\n",
        "  #processing\n",
        "  patient_response= rows['Description']\n",
        "  patient_response= patient_response.replace('.','.<eos>')\n",
        "  patient_response= patient_response.replace('!','!<eos>')\n",
        "  patient_response= patient_response.replace('?','?<eos>')\n",
        "  patient_response= patient_response.replace(')',')<eos>')\n",
        "  \n",
        "  sentences= patient_response.split('<eos>')\n",
        "  \n",
        "  max_chunk= 500\n",
        "  current_chunk=0\n",
        "  chunks=[]\n",
        "\n",
        "  for sentence in sentences:\n",
        "    if len(chunks)== current_chunk+1:\n",
        "      if (len(chunks[current_chunk])+ len(sentence.split(' '))) <= max_chunk:\n",
        "        chunks[current_chunk].extend(sentence.split(' '))\n",
        "\n",
        "      else:\n",
        "        current_chunk = current_chunk+1\n",
        "        chunks.append(sentence.split(' '))\n",
        "\n",
        "    else:\n",
        "    #print(current_chunk)\n",
        "      chunks.append(sentence.split(' '))\n",
        "  \n",
        "  #adding the word-components back as a sentence\n",
        "  for chunk_id in range(len(chunks)):\n",
        "    chunks[chunk_id]=' '.join(chunks[chunk_id])\n",
        "  \n",
        "\n",
        "  #summarizing now\n",
        "  result= summarizer(chunks, max_length=120, min_length= 30, do_sample= False)\n",
        "\n",
        "  #concatenate all chunk's summaries\n",
        "  final_response_summary= ' '.join([elements['summary_text'] for elements in result])\n",
        "\n",
        "  #appending the final summary into our list\n",
        "  responseSummaryList.append(final_response_summary)\n",
        "\n",
        "\n",
        "dataset_df['summary']= responseSummaryList\n",
        "dataset_df.head()\n",
        "\n",
        "\n",
        "dataset_df.to_csv(r'/content/drive/MyDrive/STD_NLP_Analysis/summary.csv', index = False)"
      ],
      "execution_count": 19,
      "outputs": [
        {
          "output_type": "stream",
          "text": [
            "Your max_length is set to 120, but you input_length is only 98. You might consider decreasing max_length manually, e.g. summarizer('...', max_length=50)\n",
            "Your max_length is set to 120, but you input_length is only 87. You might consider decreasing max_length manually, e.g. summarizer('...', max_length=50)\n",
            "Your max_length is set to 120, but you input_length is only 78. You might consider decreasing max_length manually, e.g. summarizer('...', max_length=50)\n",
            "Your max_length is set to 120, but you input_length is only 52. You might consider decreasing max_length manually, e.g. summarizer('...', max_length=50)\n",
            "Your max_length is set to 120, but you input_length is only 80. You might consider decreasing max_length manually, e.g. summarizer('...', max_length=50)\n",
            "Your max_length is set to 120, but you input_length is only 99. You might consider decreasing max_length manually, e.g. summarizer('...', max_length=50)\n",
            "Your max_length is set to 120, but you input_length is only 32. You might consider decreasing max_length manually, e.g. summarizer('...', max_length=50)\n",
            "Your max_length is set to 120, but you input_length is only 33. You might consider decreasing max_length manually, e.g. summarizer('...', max_length=50)\n",
            "Your max_length is set to 120, but you input_length is only 58. You might consider decreasing max_length manually, e.g. summarizer('...', max_length=50)\n",
            "Your max_length is set to 120, but you input_length is only 90. You might consider decreasing max_length manually, e.g. summarizer('...', max_length=50)\n",
            "Your max_length is set to 120, but you input_length is only 26. You might consider decreasing max_length manually, e.g. summarizer('...', max_length=50)\n",
            "Your max_length is set to 120, but you input_length is only 50. You might consider decreasing max_length manually, e.g. summarizer('...', max_length=50)\n",
            "Your max_length is set to 120, but you input_length is only 77. You might consider decreasing max_length manually, e.g. summarizer('...', max_length=50)\n",
            "Your max_length is set to 120, but you input_length is only 70. You might consider decreasing max_length manually, e.g. summarizer('...', max_length=50)\n",
            "Your max_length is set to 120, but you input_length is only 72. You might consider decreasing max_length manually, e.g. summarizer('...', max_length=50)\n",
            "Your max_length is set to 120, but you input_length is only 48. You might consider decreasing max_length manually, e.g. summarizer('...', max_length=50)\n",
            "Your max_length is set to 120, but you input_length is only 25. You might consider decreasing max_length manually, e.g. summarizer('...', max_length=50)\n",
            "Your max_length is set to 120, but you input_length is only 80. You might consider decreasing max_length manually, e.g. summarizer('...', max_length=50)\n",
            "Your max_length is set to 120, but you input_length is only 109. You might consider decreasing max_length manually, e.g. summarizer('...', max_length=50)\n",
            "Your max_length is set to 120, but you input_length is only 73. You might consider decreasing max_length manually, e.g. summarizer('...', max_length=50)\n",
            "Your max_length is set to 120, but you input_length is only 105. You might consider decreasing max_length manually, e.g. summarizer('...', max_length=50)\n",
            "Your max_length is set to 120, but you input_length is only 87. You might consider decreasing max_length manually, e.g. summarizer('...', max_length=50)\n",
            "Your max_length is set to 120, but you input_length is only 116. You might consider decreasing max_length manually, e.g. summarizer('...', max_length=50)\n",
            "Your max_length is set to 120, but you input_length is only 31. You might consider decreasing max_length manually, e.g. summarizer('...', max_length=50)\n",
            "Your max_length is set to 120, but you input_length is only 37. You might consider decreasing max_length manually, e.g. summarizer('...', max_length=50)\n",
            "Your max_length is set to 120, but you input_length is only 80. You might consider decreasing max_length manually, e.g. summarizer('...', max_length=50)\n",
            "Your max_length is set to 120, but you input_length is only 83. You might consider decreasing max_length manually, e.g. summarizer('...', max_length=50)\n",
            "Your max_length is set to 120, but you input_length is only 69. You might consider decreasing max_length manually, e.g. summarizer('...', max_length=50)\n",
            "Your max_length is set to 120, but you input_length is only 73. You might consider decreasing max_length manually, e.g. summarizer('...', max_length=50)\n",
            "Your max_length is set to 120, but you input_length is only 109. You might consider decreasing max_length manually, e.g. summarizer('...', max_length=50)\n",
            "Your max_length is set to 120, but you input_length is only 92. You might consider decreasing max_length manually, e.g. summarizer('...', max_length=50)\n",
            "Your max_length is set to 120, but you input_length is only 36. You might consider decreasing max_length manually, e.g. summarizer('...', max_length=50)\n",
            "Your max_length is set to 120, but you input_length is only 35. You might consider decreasing max_length manually, e.g. summarizer('...', max_length=50)\n",
            "Your max_length is set to 120, but you input_length is only 98. You might consider decreasing max_length manually, e.g. summarizer('...', max_length=50)\n",
            "Your max_length is set to 120, but you input_length is only 104. You might consider decreasing max_length manually, e.g. summarizer('...', max_length=50)\n",
            "Your max_length is set to 120, but you input_length is only 108. You might consider decreasing max_length manually, e.g. summarizer('...', max_length=50)\n",
            "Your max_length is set to 120, but you input_length is only 101. You might consider decreasing max_length manually, e.g. summarizer('...', max_length=50)\n",
            "Your max_length is set to 120, but you input_length is only 110. You might consider decreasing max_length manually, e.g. summarizer('...', max_length=50)\n",
            "Your max_length is set to 120, but you input_length is only 19. You might consider decreasing max_length manually, e.g. summarizer('...', max_length=50)\n",
            "Your max_length is set to 120, but you input_length is only 42. You might consider decreasing max_length manually, e.g. summarizer('...', max_length=50)\n",
            "Your max_length is set to 120, but you input_length is only 20. You might consider decreasing max_length manually, e.g. summarizer('...', max_length=50)\n",
            "Your max_length is set to 120, but you input_length is only 83. You might consider decreasing max_length manually, e.g. summarizer('...', max_length=50)\n",
            "Your max_length is set to 120, but you input_length is only 86. You might consider decreasing max_length manually, e.g. summarizer('...', max_length=50)\n",
            "Your max_length is set to 120, but you input_length is only 45. You might consider decreasing max_length manually, e.g. summarizer('...', max_length=50)\n",
            "Your max_length is set to 120, but you input_length is only 64. You might consider decreasing max_length manually, e.g. summarizer('...', max_length=50)\n",
            "Your max_length is set to 120, but you input_length is only 22. You might consider decreasing max_length manually, e.g. summarizer('...', max_length=50)\n",
            "Your min_length is set to 30, but you input_length is only 8. You might consider decreasing min_length manually, e.g. summarizer('...', min_length=10)\n",
            "Your max_length is set to 120, but you input_length is only 8. You might consider decreasing max_length manually, e.g. summarizer('...', max_length=50)\n",
            "Your max_length is set to 120, but you input_length is only 88. You might consider decreasing max_length manually, e.g. summarizer('...', max_length=50)\n",
            "Your min_length is set to 30, but you input_length is only 13. You might consider decreasing min_length manually, e.g. summarizer('...', min_length=10)\n",
            "Your max_length is set to 120, but you input_length is only 13. You might consider decreasing max_length manually, e.g. summarizer('...', max_length=50)\n",
            "Your max_length is set to 120, but you input_length is only 96. You might consider decreasing max_length manually, e.g. summarizer('...', max_length=50)\n",
            "Your min_length is set to 30, but you input_length is only 14. You might consider decreasing min_length manually, e.g. summarizer('...', min_length=10)\n",
            "Your max_length is set to 120, but you input_length is only 14. You might consider decreasing max_length manually, e.g. summarizer('...', max_length=50)\n",
            "Your min_length is set to 30, but you input_length is only 4. You might consider decreasing min_length manually, e.g. summarizer('...', min_length=10)\n",
            "Your max_length is set to 120, but you input_length is only 4. You might consider decreasing max_length manually, e.g. summarizer('...', max_length=50)\n",
            "Your max_length is set to 120, but you input_length is only 53. You might consider decreasing max_length manually, e.g. summarizer('...', max_length=50)\n",
            "Your max_length is set to 120, but you input_length is only 40. You might consider decreasing max_length manually, e.g. summarizer('...', max_length=50)\n",
            "Your max_length is set to 120, but you input_length is only 78. You might consider decreasing max_length manually, e.g. summarizer('...', max_length=50)\n",
            "Your max_length is set to 120, but you input_length is only 92. You might consider decreasing max_length manually, e.g. summarizer('...', max_length=50)\n",
            "Your max_length is set to 120, but you input_length is only 69. You might consider decreasing max_length manually, e.g. summarizer('...', max_length=50)\n",
            "Your max_length is set to 120, but you input_length is only 69. You might consider decreasing max_length manually, e.g. summarizer('...', max_length=50)\n",
            "Your max_length is set to 120, but you input_length is only 69. You might consider decreasing max_length manually, e.g. summarizer('...', max_length=50)\n",
            "Your max_length is set to 120, but you input_length is only 105. You might consider decreasing max_length manually, e.g. summarizer('...', max_length=50)\n",
            "Your max_length is set to 120, but you input_length is only 32. You might consider decreasing max_length manually, e.g. summarizer('...', max_length=50)\n",
            "Your max_length is set to 120, but you input_length is only 27. You might consider decreasing max_length manually, e.g. summarizer('...', max_length=50)\n",
            "Your max_length is set to 120, but you input_length is only 52. You might consider decreasing max_length manually, e.g. summarizer('...', max_length=50)\n",
            "Your max_length is set to 120, but you input_length is only 29. You might consider decreasing max_length manually, e.g. summarizer('...', max_length=50)\n",
            "Your max_length is set to 120, but you input_length is only 94. You might consider decreasing max_length manually, e.g. summarizer('...', max_length=50)\n",
            "Your max_length is set to 120, but you input_length is only 86. You might consider decreasing max_length manually, e.g. summarizer('...', max_length=50)\n",
            "Your max_length is set to 120, but you input_length is only 54. You might consider decreasing max_length manually, e.g. summarizer('...', max_length=50)\n",
            "Your max_length is set to 120, but you input_length is only 101. You might consider decreasing max_length manually, e.g. summarizer('...', max_length=50)\n",
            "Your max_length is set to 120, but you input_length is only 20. You might consider decreasing max_length manually, e.g. summarizer('...', max_length=50)\n",
            "Your min_length is set to 30, but you input_length is only 11. You might consider decreasing min_length manually, e.g. summarizer('...', min_length=10)\n",
            "Your max_length is set to 120, but you input_length is only 11. You might consider decreasing max_length manually, e.g. summarizer('...', max_length=50)\n",
            "Your max_length is set to 120, but you input_length is only 16. You might consider decreasing max_length manually, e.g. summarizer('...', max_length=50)\n",
            "Your max_length is set to 120, but you input_length is only 103. You might consider decreasing max_length manually, e.g. summarizer('...', max_length=50)\n",
            "Your max_length is set to 120, but you input_length is only 119. You might consider decreasing max_length manually, e.g. summarizer('...', max_length=50)\n",
            "Your max_length is set to 120, but you input_length is only 41. You might consider decreasing max_length manually, e.g. summarizer('...', max_length=50)\n",
            "Your max_length is set to 120, but you input_length is only 15. You might consider decreasing max_length manually, e.g. summarizer('...', max_length=50)\n",
            "Your max_length is set to 120, but you input_length is only 96. You might consider decreasing max_length manually, e.g. summarizer('...', max_length=50)\n",
            "Your max_length is set to 120, but you input_length is only 74. You might consider decreasing max_length manually, e.g. summarizer('...', max_length=50)\n",
            "Your max_length is set to 120, but you input_length is only 71. You might consider decreasing max_length manually, e.g. summarizer('...', max_length=50)\n",
            "Your max_length is set to 120, but you input_length is only 104. You might consider decreasing max_length manually, e.g. summarizer('...', max_length=50)\n",
            "Your max_length is set to 120, but you input_length is only 52. You might consider decreasing max_length manually, e.g. summarizer('...', max_length=50)\n",
            "Your max_length is set to 120, but you input_length is only 91. You might consider decreasing max_length manually, e.g. summarizer('...', max_length=50)\n",
            "Your max_length is set to 120, but you input_length is only 115. You might consider decreasing max_length manually, e.g. summarizer('...', max_length=50)\n",
            "Your max_length is set to 120, but you input_length is only 70. You might consider decreasing max_length manually, e.g. summarizer('...', max_length=50)\n",
            "Your max_length is set to 120, but you input_length is only 113. You might consider decreasing max_length manually, e.g. summarizer('...', max_length=50)\n",
            "Your max_length is set to 120, but you input_length is only 26. You might consider decreasing max_length manually, e.g. summarizer('...', max_length=50)\n",
            "Your max_length is set to 120, but you input_length is only 106. You might consider decreasing max_length manually, e.g. summarizer('...', max_length=50)\n",
            "Your max_length is set to 120, but you input_length is only 79. You might consider decreasing max_length manually, e.g. summarizer('...', max_length=50)\n",
            "Your max_length is set to 120, but you input_length is only 110. You might consider decreasing max_length manually, e.g. summarizer('...', max_length=50)\n",
            "Your max_length is set to 120, but you input_length is only 95. You might consider decreasing max_length manually, e.g. summarizer('...', max_length=50)\n",
            "Your max_length is set to 120, but you input_length is only 20. You might consider decreasing max_length manually, e.g. summarizer('...', max_length=50)\n",
            "Your max_length is set to 120, but you input_length is only 65. You might consider decreasing max_length manually, e.g. summarizer('...', max_length=50)\n",
            "Your max_length is set to 120, but you input_length is only 57. You might consider decreasing max_length manually, e.g. summarizer('...', max_length=50)\n",
            "Your max_length is set to 120, but you input_length is only 48. You might consider decreasing max_length manually, e.g. summarizer('...', max_length=50)\n",
            "Your max_length is set to 120, but you input_length is only 74. You might consider decreasing max_length manually, e.g. summarizer('...', max_length=50)\n",
            "Your max_length is set to 120, but you input_length is only 29. You might consider decreasing max_length manually, e.g. summarizer('...', max_length=50)\n",
            "Your max_length is set to 120, but you input_length is only 37. You might consider decreasing max_length manually, e.g. summarizer('...', max_length=50)\n",
            "Your min_length is set to 30, but you input_length is only 12. You might consider decreasing min_length manually, e.g. summarizer('...', min_length=10)\n",
            "Your max_length is set to 120, but you input_length is only 12. You might consider decreasing max_length manually, e.g. summarizer('...', max_length=50)\n",
            "Your max_length is set to 120, but you input_length is only 96. You might consider decreasing max_length manually, e.g. summarizer('...', max_length=50)\n",
            "Your max_length is set to 120, but you input_length is only 59. You might consider decreasing max_length manually, e.g. summarizer('...', max_length=50)\n",
            "Your max_length is set to 120, but you input_length is only 67. You might consider decreasing max_length manually, e.g. summarizer('...', max_length=50)\n",
            "Your max_length is set to 120, but you input_length is only 108. You might consider decreasing max_length manually, e.g. summarizer('...', max_length=50)\n",
            "Your max_length is set to 120, but you input_length is only 114. You might consider decreasing max_length manually, e.g. summarizer('...', max_length=50)\n",
            "Your max_length is set to 120, but you input_length is only 91. You might consider decreasing max_length manually, e.g. summarizer('...', max_length=50)\n",
            "Your max_length is set to 120, but you input_length is only 102. You might consider decreasing max_length manually, e.g. summarizer('...', max_length=50)\n",
            "Your max_length is set to 120, but you input_length is only 51. You might consider decreasing max_length manually, e.g. summarizer('...', max_length=50)\n",
            "Your max_length is set to 120, but you input_length is only 36. You might consider decreasing max_length manually, e.g. summarizer('...', max_length=50)\n",
            "Your max_length is set to 120, but you input_length is only 92. You might consider decreasing max_length manually, e.g. summarizer('...', max_length=50)\n",
            "Your max_length is set to 120, but you input_length is only 94. You might consider decreasing max_length manually, e.g. summarizer('...', max_length=50)\n",
            "Your max_length is set to 120, but you input_length is only 58. You might consider decreasing max_length manually, e.g. summarizer('...', max_length=50)\n",
            "Your max_length is set to 120, but you input_length is only 32. You might consider decreasing max_length manually, e.g. summarizer('...', max_length=50)\n",
            "Your max_length is set to 120, but you input_length is only 118. You might consider decreasing max_length manually, e.g. summarizer('...', max_length=50)\n",
            "Your max_length is set to 120, but you input_length is only 35. You might consider decreasing max_length manually, e.g. summarizer('...', max_length=50)\n",
            "Your max_length is set to 120, but you input_length is only 79. You might consider decreasing max_length manually, e.g. summarizer('...', max_length=50)\n",
            "Your max_length is set to 120, but you input_length is only 68. You might consider decreasing max_length manually, e.g. summarizer('...', max_length=50)\n",
            "Your max_length is set to 120, but you input_length is only 61. You might consider decreasing max_length manually, e.g. summarizer('...', max_length=50)\n",
            "Your max_length is set to 120, but you input_length is only 85. You might consider decreasing max_length manually, e.g. summarizer('...', max_length=50)\n",
            "Your max_length is set to 120, but you input_length is only 49. You might consider decreasing max_length manually, e.g. summarizer('...', max_length=50)\n",
            "Your max_length is set to 120, but you input_length is only 57. You might consider decreasing max_length manually, e.g. summarizer('...', max_length=50)\n",
            "Your max_length is set to 120, but you input_length is only 103. You might consider decreasing max_length manually, e.g. summarizer('...', max_length=50)\n",
            "Your max_length is set to 120, but you input_length is only 75. You might consider decreasing max_length manually, e.g. summarizer('...', max_length=50)\n",
            "Your max_length is set to 120, but you input_length is only 96. You might consider decreasing max_length manually, e.g. summarizer('...', max_length=50)\n",
            "Your max_length is set to 120, but you input_length is only 83. You might consider decreasing max_length manually, e.g. summarizer('...', max_length=50)\n",
            "Your max_length is set to 120, but you input_length is only 105. You might consider decreasing max_length manually, e.g. summarizer('...', max_length=50)\n",
            "Your max_length is set to 120, but you input_length is only 49. You might consider decreasing max_length manually, e.g. summarizer('...', max_length=50)\n",
            "Your max_length is set to 120, but you input_length is only 72. You might consider decreasing max_length manually, e.g. summarizer('...', max_length=50)\n",
            "Your max_length is set to 120, but you input_length is only 52. You might consider decreasing max_length manually, e.g. summarizer('...', max_length=50)\n",
            "Your max_length is set to 120, but you input_length is only 35. You might consider decreasing max_length manually, e.g. summarizer('...', max_length=50)\n",
            "Your max_length is set to 120, but you input_length is only 52. You might consider decreasing max_length manually, e.g. summarizer('...', max_length=50)\n",
            "Your max_length is set to 120, but you input_length is only 77. You might consider decreasing max_length manually, e.g. summarizer('...', max_length=50)\n",
            "Your max_length is set to 120, but you input_length is only 42. You might consider decreasing max_length manually, e.g. summarizer('...', max_length=50)\n",
            "Your max_length is set to 120, but you input_length is only 38. You might consider decreasing max_length manually, e.g. summarizer('...', max_length=50)\n",
            "Your max_length is set to 120, but you input_length is only 80. You might consider decreasing max_length manually, e.g. summarizer('...', max_length=50)\n",
            "Your max_length is set to 120, but you input_length is only 52. You might consider decreasing max_length manually, e.g. summarizer('...', max_length=50)\n",
            "Your max_length is set to 120, but you input_length is only 85. You might consider decreasing max_length manually, e.g. summarizer('...', max_length=50)\n",
            "Your max_length is set to 120, but you input_length is only 48. You might consider decreasing max_length manually, e.g. summarizer('...', max_length=50)\n",
            "Your max_length is set to 120, but you input_length is only 56. You might consider decreasing max_length manually, e.g. summarizer('...', max_length=50)\n",
            "Your max_length is set to 120, but you input_length is only 25. You might consider decreasing max_length manually, e.g. summarizer('...', max_length=50)\n",
            "Your max_length is set to 120, but you input_length is only 22. You might consider decreasing max_length manually, e.g. summarizer('...', max_length=50)\n",
            "Your max_length is set to 120, but you input_length is only 61. You might consider decreasing max_length manually, e.g. summarizer('...', max_length=50)\n",
            "Your max_length is set to 120, but you input_length is only 91. You might consider decreasing max_length manually, e.g. summarizer('...', max_length=50)\n",
            "Your max_length is set to 120, but you input_length is only 26. You might consider decreasing max_length manually, e.g. summarizer('...', max_length=50)\n",
            "Your max_length is set to 120, but you input_length is only 59. You might consider decreasing max_length manually, e.g. summarizer('...', max_length=50)\n",
            "Your max_length is set to 120, but you input_length is only 105. You might consider decreasing max_length manually, e.g. summarizer('...', max_length=50)\n",
            "Your max_length is set to 120, but you input_length is only 28. You might consider decreasing max_length manually, e.g. summarizer('...', max_length=50)\n",
            "Your max_length is set to 120, but you input_length is only 68. You might consider decreasing max_length manually, e.g. summarizer('...', max_length=50)\n",
            "Your max_length is set to 120, but you input_length is only 71. You might consider decreasing max_length manually, e.g. summarizer('...', max_length=50)\n",
            "Your max_length is set to 120, but you input_length is only 44. You might consider decreasing max_length manually, e.g. summarizer('...', max_length=50)\n",
            "Your max_length is set to 120, but you input_length is only 89. You might consider decreasing max_length manually, e.g. summarizer('...', max_length=50)\n",
            "Your max_length is set to 120, but you input_length is only 23. You might consider decreasing max_length manually, e.g. summarizer('...', max_length=50)\n",
            "Your max_length is set to 120, but you input_length is only 81. You might consider decreasing max_length manually, e.g. summarizer('...', max_length=50)\n",
            "Your max_length is set to 120, but you input_length is only 69. You might consider decreasing max_length manually, e.g. summarizer('...', max_length=50)\n",
            "Your max_length is set to 120, but you input_length is only 76. You might consider decreasing max_length manually, e.g. summarizer('...', max_length=50)\n",
            "Your max_length is set to 120, but you input_length is only 32. You might consider decreasing max_length manually, e.g. summarizer('...', max_length=50)\n",
            "Your max_length is set to 120, but you input_length is only 67. You might consider decreasing max_length manually, e.g. summarizer('...', max_length=50)\n",
            "Your max_length is set to 120, but you input_length is only 107. You might consider decreasing max_length manually, e.g. summarizer('...', max_length=50)\n",
            "Your max_length is set to 120, but you input_length is only 56. You might consider decreasing max_length manually, e.g. summarizer('...', max_length=50)\n",
            "Your max_length is set to 120, but you input_length is only 91. You might consider decreasing max_length manually, e.g. summarizer('...', max_length=50)\n",
            "Your max_length is set to 120, but you input_length is only 116. You might consider decreasing max_length manually, e.g. summarizer('...', max_length=50)\n",
            "Your max_length is set to 120, but you input_length is only 65. You might consider decreasing max_length manually, e.g. summarizer('...', max_length=50)\n",
            "Your max_length is set to 120, but you input_length is only 30. You might consider decreasing max_length manually, e.g. summarizer('...', max_length=50)\n",
            "Your max_length is set to 120, but you input_length is only 61. You might consider decreasing max_length manually, e.g. summarizer('...', max_length=50)\n",
            "Your max_length is set to 120, but you input_length is only 76. You might consider decreasing max_length manually, e.g. summarizer('...', max_length=50)\n",
            "Your max_length is set to 120, but you input_length is only 63. You might consider decreasing max_length manually, e.g. summarizer('...', max_length=50)\n",
            "Your max_length is set to 120, but you input_length is only 67. You might consider decreasing max_length manually, e.g. summarizer('...', max_length=50)\n",
            "Your max_length is set to 120, but you input_length is only 81. You might consider decreasing max_length manually, e.g. summarizer('...', max_length=50)\n",
            "Your max_length is set to 120, but you input_length is only 65. You might consider decreasing max_length manually, e.g. summarizer('...', max_length=50)\n",
            "Your max_length is set to 120, but you input_length is only 118. You might consider decreasing max_length manually, e.g. summarizer('...', max_length=50)\n",
            "Your max_length is set to 120, but you input_length is only 106. You might consider decreasing max_length manually, e.g. summarizer('...', max_length=50)\n",
            "Your max_length is set to 120, but you input_length is only 42. You might consider decreasing max_length manually, e.g. summarizer('...', max_length=50)\n",
            "Your max_length is set to 120, but you input_length is only 74. You might consider decreasing max_length manually, e.g. summarizer('...', max_length=50)\n",
            "Your max_length is set to 120, but you input_length is only 44. You might consider decreasing max_length manually, e.g. summarizer('...', max_length=50)\n",
            "Your max_length is set to 120, but you input_length is only 19. You might consider decreasing max_length manually, e.g. summarizer('...', max_length=50)\n",
            "Your max_length is set to 120, but you input_length is only 92. You might consider decreasing max_length manually, e.g. summarizer('...', max_length=50)\n",
            "Your max_length is set to 120, but you input_length is only 60. You might consider decreasing max_length manually, e.g. summarizer('...', max_length=50)\n",
            "Your max_length is set to 120, but you input_length is only 75. You might consider decreasing max_length manually, e.g. summarizer('...', max_length=50)\n",
            "Your max_length is set to 120, but you input_length is only 111. You might consider decreasing max_length manually, e.g. summarizer('...', max_length=50)\n",
            "Your max_length is set to 120, but you input_length is only 27. You might consider decreasing max_length manually, e.g. summarizer('...', max_length=50)\n",
            "Your max_length is set to 120, but you input_length is only 15. You might consider decreasing max_length manually, e.g. summarizer('...', max_length=50)\n",
            "Your max_length is set to 120, but you input_length is only 36. You might consider decreasing max_length manually, e.g. summarizer('...', max_length=50)\n",
            "Your max_length is set to 120, but you input_length is only 111. You might consider decreasing max_length manually, e.g. summarizer('...', max_length=50)\n",
            "Your max_length is set to 120, but you input_length is only 16. You might consider decreasing max_length manually, e.g. summarizer('...', max_length=50)\n",
            "Your max_length is set to 120, but you input_length is only 35. You might consider decreasing max_length manually, e.g. summarizer('...', max_length=50)\n",
            "Your max_length is set to 120, but you input_length is only 100. You might consider decreasing max_length manually, e.g. summarizer('...', max_length=50)\n",
            "Your max_length is set to 120, but you input_length is only 51. You might consider decreasing max_length manually, e.g. summarizer('...', max_length=50)\n",
            "Your max_length is set to 120, but you input_length is only 77. You might consider decreasing max_length manually, e.g. summarizer('...', max_length=50)\n",
            "Your max_length is set to 120, but you input_length is only 45. You might consider decreasing max_length manually, e.g. summarizer('...', max_length=50)\n",
            "Your max_length is set to 120, but you input_length is only 115. You might consider decreasing max_length manually, e.g. summarizer('...', max_length=50)\n",
            "Your max_length is set to 120, but you input_length is only 46. You might consider decreasing max_length manually, e.g. summarizer('...', max_length=50)\n",
            "Your max_length is set to 120, but you input_length is only 110. You might consider decreasing max_length manually, e.g. summarizer('...', max_length=50)\n",
            "Your max_length is set to 120, but you input_length is only 55. You might consider decreasing max_length manually, e.g. summarizer('...', max_length=50)\n",
            "Your max_length is set to 120, but you input_length is only 74. You might consider decreasing max_length manually, e.g. summarizer('...', max_length=50)\n",
            "Your max_length is set to 120, but you input_length is only 88. You might consider decreasing max_length manually, e.g. summarizer('...', max_length=50)\n",
            "Your max_length is set to 120, but you input_length is only 20. You might consider decreasing max_length manually, e.g. summarizer('...', max_length=50)\n",
            "Your max_length is set to 120, but you input_length is only 88. You might consider decreasing max_length manually, e.g. summarizer('...', max_length=50)\n",
            "Your max_length is set to 120, but you input_length is only 44. You might consider decreasing max_length manually, e.g. summarizer('...', max_length=50)\n",
            "Your max_length is set to 120, but you input_length is only 105. You might consider decreasing max_length manually, e.g. summarizer('...', max_length=50)\n",
            "Your max_length is set to 120, but you input_length is only 51. You might consider decreasing max_length manually, e.g. summarizer('...', max_length=50)\n",
            "Your max_length is set to 120, but you input_length is only 107. You might consider decreasing max_length manually, e.g. summarizer('...', max_length=50)\n",
            "Your max_length is set to 120, but you input_length is only 89. You might consider decreasing max_length manually, e.g. summarizer('...', max_length=50)\n",
            "Your max_length is set to 120, but you input_length is only 31. You might consider decreasing max_length manually, e.g. summarizer('...', max_length=50)\n",
            "Your max_length is set to 120, but you input_length is only 103. You might consider decreasing max_length manually, e.g. summarizer('...', max_length=50)\n",
            "Your max_length is set to 120, but you input_length is only 49. You might consider decreasing max_length manually, e.g. summarizer('...', max_length=50)\n",
            "Your max_length is set to 120, but you input_length is only 114. You might consider decreasing max_length manually, e.g. summarizer('...', max_length=50)\n",
            "Your max_length is set to 120, but you input_length is only 108. You might consider decreasing max_length manually, e.g. summarizer('...', max_length=50)\n",
            "Your max_length is set to 120, but you input_length is only 105. You might consider decreasing max_length manually, e.g. summarizer('...', max_length=50)\n",
            "Your max_length is set to 120, but you input_length is only 115. You might consider decreasing max_length manually, e.g. summarizer('...', max_length=50)\n",
            "Your max_length is set to 120, but you input_length is only 100. You might consider decreasing max_length manually, e.g. summarizer('...', max_length=50)\n",
            "Your max_length is set to 120, but you input_length is only 68. You might consider decreasing max_length manually, e.g. summarizer('...', max_length=50)\n",
            "Your max_length is set to 120, but you input_length is only 37. You might consider decreasing max_length manually, e.g. summarizer('...', max_length=50)\n",
            "Your max_length is set to 120, but you input_length is only 66. You might consider decreasing max_length manually, e.g. summarizer('...', max_length=50)\n",
            "Your max_length is set to 120, but you input_length is only 56. You might consider decreasing max_length manually, e.g. summarizer('...', max_length=50)\n",
            "Your max_length is set to 120, but you input_length is only 62. You might consider decreasing max_length manually, e.g. summarizer('...', max_length=50)\n",
            "Your max_length is set to 120, but you input_length is only 102. You might consider decreasing max_length manually, e.g. summarizer('...', max_length=50)\n",
            "Your max_length is set to 120, but you input_length is only 58. You might consider decreasing max_length manually, e.g. summarizer('...', max_length=50)\n",
            "Your max_length is set to 120, but you input_length is only 63. You might consider decreasing max_length manually, e.g. summarizer('...', max_length=50)\n"
          ],
          "name": "stderr"
        }
      ]
    },
    {
      "cell_type": "code",
      "metadata": {
        "id": "_yDTOGgjzqpi",
        "colab": {
          "base_uri": "https://localhost:8080/",
          "height": 285
        },
        "outputId": "f41357cf-0ce8-45ab-bfbb-cc35cb476b23"
      },
      "source": [
        "dataset_df.head()"
      ],
      "execution_count": 20,
      "outputs": [
        {
          "output_type": "execute_result",
          "data": {
            "text/html": [
              "<div>\n",
              "<style scoped>\n",
              "    .dataframe tbody tr th:only-of-type {\n",
              "        vertical-align: middle;\n",
              "    }\n",
              "\n",
              "    .dataframe tbody tr th {\n",
              "        vertical-align: top;\n",
              "    }\n",
              "\n",
              "    .dataframe thead th {\n",
              "        text-align: right;\n",
              "    }\n",
              "</style>\n",
              "<table border=\"1\" class=\"dataframe\">\n",
              "  <thead>\n",
              "    <tr style=\"text-align: right;\">\n",
              "      <th></th>\n",
              "      <th>Name</th>\n",
              "      <th>Profile_url</th>\n",
              "      <th>Description</th>\n",
              "      <th>Time</th>\n",
              "      <th>summary</th>\n",
              "    </tr>\n",
              "  </thead>\n",
              "  <tbody>\n",
              "    <tr>\n",
              "      <th>0</th>\n",
              "      <td>hellomorgan</td>\n",
              "      <td>https://www.inspire.com/m/hellomorgan/</td>\n",
              "      <td>I had unprotected sex with a man last week and...</td>\n",
              "      <td>Yesterday at 4:02 pm</td>\n",
              "      <td>I had unprotected sex with a man last week an...</td>\n",
              "    </tr>\n",
              "    <tr>\n",
              "      <th>1</th>\n",
              "      <td>sdiv</td>\n",
              "      <td>https://www.inspire.com/m/sdiv/</td>\n",
              "      <td>Im feeling...hopeless. Ive had great strides...</td>\n",
              "      <td>June 28, 2019 at 3:19 am</td>\n",
              "      <td>The thought of even meeting a man and having ...</td>\n",
              "    </tr>\n",
              "    <tr>\n",
              "      <th>2</th>\n",
              "      <td>Brian</td>\n",
              "      <td>https://www.inspire.com/m/Brian/</td>\n",
              "      <td>Dear members,\\n\\nMany of us, including myself,...</td>\n",
              "      <td>March 13, 2019 at 10:24 am</td>\n",
              "      <td>Dr. Harlan Krumholz, a cardiologist, healthca...</td>\n",
              "    </tr>\n",
              "    <tr>\n",
              "      <th>3</th>\n",
              "      <td>mastergousau2</td>\n",
              "      <td>https://www.inspire.com/m/mastergousau2/</td>\n",
              "      <td>**Attached photo(uncircumcised flaccid penis(f...</td>\n",
              "      <td>June 19, 2019 at 12:56 pm</td>\n",
              "      <td>A 28-year-old male male  received his STD tes...</td>\n",
              "    </tr>\n",
              "    <tr>\n",
              "      <th>4</th>\n",
              "      <td>khack2471</td>\n",
              "      <td>https://www.inspire.com/m/khack2471/</td>\n",
              "      <td>Since I have had hpv on numerous of occasions ...</td>\n",
              "      <td>June 19, 2019 at 11:50 pm</td>\n",
              "      <td>Since I have had hpv on numerous of occasions...</td>\n",
              "    </tr>\n",
              "  </tbody>\n",
              "</table>\n",
              "</div>"
            ],
            "text/plain": [
              "            Name  ...                                            summary\n",
              "0    hellomorgan  ...   I had unprotected sex with a man last week an...\n",
              "1           sdiv  ...   The thought of even meeting a man and having ...\n",
              "2          Brian  ...   Dr. Harlan Krumholz, a cardiologist, healthca...\n",
              "3  mastergousau2  ...   A 28-year-old male male  received his STD tes...\n",
              "4      khack2471  ...   Since I have had hpv on numerous of occasions...\n",
              "\n",
              "[5 rows x 5 columns]"
            ]
          },
          "metadata": {
            "tags": []
          },
          "execution_count": 20
        }
      ]
    }
  ]
}